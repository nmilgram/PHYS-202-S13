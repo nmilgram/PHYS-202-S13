{
 "metadata": {
  "name": "angle-location-contact"
 },
 "nbformat": 3,
 "nbformat_minor": 0,
 "worksheets": [
  {
   "cells": [
    {
     "cell_type": "code",
     "collapsed": false,
     "input": [
      "import numpy.random\n",
      "def angle_and_location(N):\n",
      "    \n",
      "    angle=numpy.random.random(N)\n",
      "    \n",
      "    Xlocation=.65*(2*numpy.random.random(N)-1)\n",
      "\n",
      "    Ylocation=.65*(2*numpy.random.random(N)-1)\n",
      "\n",
      "    return angle, Xlocation, Ylocation"
     ],
     "language": "python",
     "metadata": {},
     "outputs": [],
     "prompt_number": 32
    },
    {
     "cell_type": "code",
     "collapsed": false,
     "input": [
      "angle_and_location(4)"
     ],
     "language": "python",
     "metadata": {},
     "outputs": [
      {
       "output_type": "pyout",
       "prompt_number": 33,
       "text": [
        "(array([ 0.0299909 ,  0.91836547,  0.56731034,  0.43749788]),\n",
        " array([-0.40592684, -0.1178847 , -0.17091609,  0.06718983]),\n",
        " array([ 0.39749957,  0.43531392, -0.3572124 , -0.23285362]))"
       ]
      }
     ],
     "prompt_number": 33
    },
    {
     "cell_type": "code",
     "collapsed": false,
     "input": [
      "def contact(angle,xdet,ydet,X,Y,z):\n",
      "    radius=tan(angle)/(15-z)\n",
      "    if sqrt((X-xdet)**2 + (Y-ydet)**2) <=radius:\n",
      "        return True\n",
      "    else:\n",
      "        return False"
     ],
     "language": "python",
     "metadata": {},
     "outputs": [],
     "prompt_number": 34
    },
    {
     "cell_type": "code",
     "collapsed": false,
     "input": [],
     "language": "python",
     "metadata": {},
     "outputs": []
    }
   ],
   "metadata": {}
  }
 ]
}