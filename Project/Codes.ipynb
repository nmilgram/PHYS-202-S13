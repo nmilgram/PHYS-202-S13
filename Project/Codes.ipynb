{
 "metadata": {
  "name": "Codes"
 },
 "nbformat": 3,
 "nbformat_minor": 0,
 "worksheets": [
  {
   "cells": [
    {
     "cell_type": "code",
     "collapsed": false,
     "input": [
      "import numpy.random as random\n",
      "m=450 #eV/(km/s)^2\n",
      "\n",
      "def contact(A,R,T,r,t,z):\n",
      "    \n",
      "    #kinetic energy in eV\n",
      "    E=random.normal(400000000000,150000000000)\n",
      "    \n",
      "    #plane distance in km\n",
      "    XYD=(sqrt(abs((r*cos(t))-(R*cos(T)))**2 + abs((r*sin(t))-(R*sin(T)))**2))\n",
      "    \n",
      "    #actual distance in km\n",
      "   \n",
      "    D=(sqrt(abs((r*cos(t))-(R*cos(T)))**2 + abs((r*sin(t))-(R*sin(T)))**2 + z))\n",
      "    \n",
      "    #arrival time s\n",
      "  \n",
      "    T=(D/sqrt(2*E/m))\n",
      "    \n",
      "    #cascade radius in km\n",
      " \n",
      "    R=(tan(A)*(15.-z))\n",
      "    \n",
      "    #array of arrival times\n",
      "    M=[]\n",
      "    v=0\n",
      "    for i in range (0,12):\n",
      "        if XYD[i] <=R[i]:\n",
      "        \n",
      "            M.append(T[i])\n",
      "        else:\n",
      "            M.append('None')\n",
      "    for i in M:\n",
      "        if i =='None':\n",
      "           v=v+1\n",
      "    if v>9:\n",
      "         return 'Discarded'\n",
      "    else:\n",
      "         return M\n",
      "    v=0"
     ],
     "language": "python",
     "metadata": {},
     "outputs": [],
     "prompt_number": 1
    },
    {
     "cell_type": "code",
     "collapsed": false,
     "input": [
      "Re=array([0.,.186,.239,.342,.322,.149,.495,.188,.260,.216,.207,.266])  #radius location km\n",
      "Te=array([0.,79.,144.,108.,167.,0.,340.,218.,192.,316.,243.,34.])  #angle lication degrees\n",
      "Ze=array([.107,.117,.102,.114,.105,.118,.133,.105,.100,.120,.112,.124])  #z location km"
     ],
     "language": "python",
     "metadata": {},
     "outputs": [],
     "prompt_number": 2
    },
    {
     "cell_type": "code",
     "collapsed": false,
     "input": [
      "contact((pi/80),.65*numpy.random.random(1),2*pi*numpy.random.random(1),Re,Te,Ze)"
     ],
     "language": "python",
     "metadata": {},
     "outputs": [
      {
       "output_type": "pyout",
       "prompt_number": 3,
       "text": [
        "[1.2180636789847368e-05,\n",
        " 1.4477386654148624e-05,\n",
        " 1.4880747684130863e-05,\n",
        " 1.7907634488430284e-05,\n",
        " 1.6980224387167765e-05,\n",
        " 1.3962860461225981e-05,\n",
        " 2.2924274546556946e-05,\n",
        " 1.394262521670273e-05,\n",
        " 1.5215173764355651e-05,\n",
        " 1.5193307442989968e-05,\n",
        " 1.4642145733997222e-05,\n",
        " 1.6406772272132435e-05]"
       ]
      }
     ],
     "prompt_number": 3
    },
    {
     "cell_type": "code",
     "collapsed": false,
     "input": [
      "\n",
      "def funct(N):\n",
      "    U=[]\n",
      "    Q=[]\n",
      "    \n",
      "    for i in range (0,N):\n",
      "        U.append(contact((pi/80),.65*numpy.random.random(1),2*pi*numpy.random.random(1),Re,Te,Ze))\n",
      "    \n",
      "    for j in U:\n",
      "        \n",
      "        m=min(j)\n",
      "        \n",
      "        for k in j:\n",
      "            \n",
      "            if k=='None':\n",
      "                \n",
      "                Q.append(-1.)\n",
      "            else:\n",
      "                Q.append(k-m+(k-m)*float((numpy.random.random(1)*(.1)-.05)))\n",
      "             \n",
      "    S=array(Q).reshape(N,12)\n",
      "    \n",
      "    savetxt('CascadeData.dat',S)\n",
      "    \n",
      "          \n",
      "  \n",
      "       "
     ],
     "language": "python",
     "metadata": {},
     "outputs": [],
     "prompt_number": 4
    },
    {
     "cell_type": "code",
     "collapsed": false,
     "input": [
      "print funct(3)"
     ],
     "language": "python",
     "metadata": {},
     "outputs": [
      {
       "output_type": "stream",
       "stream": "stdout",
       "text": [
        "None\n"
       ]
      }
     ],
     "prompt_number": 5
    },
    {
     "cell_type": "code",
     "collapsed": false,
     "input": [
      "Data=loadtxt('CascadeData.dat')\n",
      "print Data"
     ],
     "language": "python",
     "metadata": {},
     "outputs": [
      {
       "output_type": "stream",
       "stream": "stdout",
       "text": [
        "[[  1.52334893e-06   6.33442126e-06   0.00000000e+00   4.37444169e-06\n",
        "    9.96230400e-06   1.66585476e-07   6.39060805e-06   4.21664159e-06\n",
        "    7.76278491e-06   5.16511991e-06   5.18564041e-06   8.27466560e-06]\n",
        " [  3.98337813e-06   1.70479007e-06  -1.00000000e+00  -1.00000000e+00\n",
        "    6.85493233e-07  -1.00000000e+00  -1.00000000e+00   4.15796707e-06\n",
        "    3.06190971e-07   2.86111522e-06   3.86986452e-06   0.00000000e+00]\n",
        " [  0.00000000e+00   1.47633154e-06   2.26209623e-06   4.27881097e-06\n",
        "    3.14868572e-06   1.53070971e-06   8.63008026e-06   1.12047428e-06\n",
        "    1.83106903e-06   2.15198726e-06   1.63337240e-06   2.97801276e-06]]\n"
       ]
      }
     ],
     "prompt_number": 6
    },
    {
     "cell_type": "code",
     "collapsed": false,
     "input": [
      "xm=Re*cos(Te)\n",
      "ym=Re*sin(Te)\n",
      "zm=Ze\n",
      "print xm\n",
      "print ym\n",
      "print zm"
     ],
     "language": "python",
     "metadata": {},
     "outputs": [
      {
       "output_type": "stream",
       "stream": "stdout",
       "text": [
        "[ 0.         -0.1666506   0.20820423  0.12842428 -0.28325973  0.149\n",
        "  0.37603581 -0.06281775 -0.24307132 -0.05760115 -0.09438005 -0.22571969]\n",
        "[ 0.         -0.08260496 -0.11735416  0.31697193 -0.15312716  0.\n",
        "  0.32190382 -0.17719461 -0.09228397  0.20817807 -0.18423194  0.14073599]\n",
        "[ 0.107  0.117  0.102  0.114  0.105  0.118  0.133  0.105  0.1    0.12\n",
        "  0.112  0.124]\n"
       ]
      }
     ],
     "prompt_number": 7
    },
    {
     "cell_type": "code",
     "collapsed": false,
     "input": [
      "def min_t(xd,yd,zd):\n",
      "    \n",
      "    v=sqrt(2*400000000000/m)\n",
      "       \n",
      "    a=[]  \n",
      "    for j in i:\n",
      "        if j >0:\n",
      "            a.append(j)\n",
      "        else:\n",
      "            a.append('None')\n",
      "    det=1\n",
      "    while j in i:\n",
      "        if j != min(a):\n",
      "            det = det+1\n",
      "        else:\n",
      "            break\n",
      "        \n",
      "    return min(a), det"
     ],
     "language": "python",
     "metadata": {},
     "outputs": [],
     "prompt_number": "*"
    },
    {
     "cell_type": "code",
     "collapsed": false,
     "input": [
      "for i in Data:\n",
      "    print min_t(xm,ym,zm)"
     ],
     "language": "python",
     "metadata": {},
     "outputs": [],
     "prompt_number": "*"
    }
   ],
   "metadata": {}
  }
 ]
}