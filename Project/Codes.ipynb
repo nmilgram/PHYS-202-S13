{
 "metadata": {
  "name": "Codes"
 },
 "nbformat": 3,
 "nbformat_minor": 0,
 "worksheets": [
  {
   "cells": [
    {
     "cell_type": "code",
     "collapsed": false,
     "input": [
      "def angle_cascade(N):\n",
      "    a=numpy.random.random(N)\n",
      "    return a"
     ],
     "language": "python",
     "metadata": {},
     "outputs": [],
     "prompt_number": 1
    },
    {
     "cell_type": "code",
     "collapsed": false,
     "input": [
      "def r_location_cascade(N):\n",
      "    r=.65*numpy.random.random(N)\n",
      "    return r"
     ],
     "language": "python",
     "metadata": {},
     "outputs": [],
     "prompt_number": 2
    },
    {
     "cell_type": "code",
     "collapsed": false,
     "input": [
      "def angle_location_cascade(N):\n",
      "    t=2*pi*numpy.random.random(N)\n",
      "    return t"
     ],
     "language": "python",
     "metadata": {},
     "outputs": [],
     "prompt_number": 4
    },
    {
     "cell_type": "code",
     "collapsed": false,
     "input": [
      "import numpy.random as random\n",
      "random.normal(4,1.5,100)"
     ],
     "language": "python",
     "metadata": {},
     "outputs": [
      {
       "output_type": "pyout",
       "prompt_number": 6,
       "text": [
        "array([ 2.42238594,  4.80562337,  4.04599187,  2.9938481 ,  5.94468738,\n",
        "        4.21074509,  6.91071853,  6.08429133,  5.25060598,  3.30798777,\n",
        "        4.02987755,  1.92905377,  5.63520499,  5.96804448,  5.64833087,\n",
        "        6.97560347,  4.11569888,  3.00652094,  0.96266811,  4.80424173,\n",
        "        3.75527397,  3.1052746 ,  4.91575529,  4.71496045,  3.04322413,\n",
        "        0.81814537,  2.74869472,  2.62551566,  6.50935621,  4.9528222 ,\n",
        "        5.08547196,  5.88535977,  4.34378316,  4.01597373,  0.50340008,\n",
        "        5.46718331,  5.14191255,  5.73851386,  2.87414225,  5.13259442,\n",
        "        3.69852416,  2.8133762 ,  5.22321997,  1.96531582,  1.86737644,\n",
        "        7.00338518,  3.4994711 ,  2.70769391,  3.96227015,  4.71185294,\n",
        "        4.10040507,  1.26783863,  1.41452787,  4.02552312,  2.20394535,\n",
        "        7.26365497,  2.63175138,  4.29922604,  4.75509992,  4.27263906,\n",
        "        1.61645007,  5.31350892,  1.02547073,  3.24998735,  3.84396805,\n",
        "        3.17896422,  4.33015012,  3.77759254,  1.70562958,  5.57425437,\n",
        "        5.50272439,  6.73771659,  4.12425743,  5.52884194,  4.88439995,\n",
        "        5.274749  ,  4.59606916,  4.0231528 ,  3.27152749,  4.71460428,\n",
        "        3.89658239,  3.78924716,  4.14076223,  5.50887622,  3.71266515,\n",
        "        1.84063449,  5.64795207,  4.96688245,  5.44359384,  3.24894169,\n",
        "        4.51884561,  7.78520637,  4.8192501 ,  3.19766733,  1.88908237,\n",
        "        4.35397088,  3.4602729 ,  3.56411698,  3.29489404,  4.59127607])"
       ]
      }
     ],
     "prompt_number": 6
    },
    {
     "cell_type": "code",
     "collapsed": false,
     "input": [
      "import numpy.random as random\n",
      "m=450 #eV/(km/s)^2\n",
      "\n",
      "def contact(A,R,T,r,t,z):\n",
      "    \n",
      "    #kinetic energy in eV\n",
      "    E=random.normal(4,1.5)\n",
      "    \n",
      "    #plane distance in km\n",
      "    XYD=(sqrt(abs((r*cos(t))-(R*cos(T)))**2 + abs((r*sin(t))-(R*sin(T)))**2))\n",
      "    \n",
      "    #actual distance in km\n",
      "   \n",
      "    D=(sqrt(abs((r*cos(t))-(R*cos(T)))**2 + abs((r*sin(t))-(R*sin(T)))**2 + z))\n",
      "    \n",
      "    #arrival time s\n",
      "  \n",
      "    T=(D/sqrt(2*E/m))\n",
      "    \n",
      "    #cascade radius in km\n",
      " \n",
      "    R=(tan(A)*(15.-z))\n",
      "    \n",
      "    #array of arrival times\n",
      "    M=[]\n",
      "    \n",
      "    for i in range (1,12):\n",
      "        if XYD[i] <=R[i]:\n",
      "        \n",
      "            M.append(T[i])\n",
      "        else:\n",
      "            M.append('None')\n",
      "    return M"
     ],
     "language": "python",
     "metadata": {},
     "outputs": [],
     "prompt_number": 30
    },
    {
     "cell_type": "code",
     "collapsed": false,
     "input": [
      "Re=array([0.,.186,.239,.342,.322,.149,.495,.188,.260,.216,.207,.266])\n",
      "Te=array([0.,79.,144.,108.,167.,0.,340.,218.,192.,316.,243.,34.])\n",
      "Ze=array([.107,.117,.102,.114,.105,.118,.133,.105,.100,.120,.112,.124])"
     ],
     "language": "python",
     "metadata": {},
     "outputs": [],
     "prompt_number": 31
    },
    {
     "cell_type": "code",
     "collapsed": false,
     "input": [
      "contact(numpy.random.random(1),.65*numpy.random.random(1),2*pi*numpy.random.random(1),Re,Te,Ze)"
     ],
     "language": "python",
     "metadata": {},
     "outputs": [
      {
       "output_type": "pyout",
       "prompt_number": 36,
       "text": [
        "[3.4489362906330121,\n",
        " 2.4362911449173108,\n",
        " 4.6344740372271644,\n",
        " 3.7578714079726847,\n",
        " 3.0099680872676173,\n",
        " 4.9250075606642802,\n",
        " 2.7308394471946764,\n",
        " 3.6619203136186482,\n",
        " 4.3109158498300646,\n",
        " 2.8871872408783696,\n",
        " 4.5174967785239613]"
       ]
      }
     ],
     "prompt_number": 36
    },
    {
     "cell_type": "code",
     "collapsed": false,
     "input": [],
     "language": "python",
     "metadata": {},
     "outputs": []
    }
   ],
   "metadata": {}
  }
 ]
}