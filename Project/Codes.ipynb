{
 "metadata": {
  "name": "Codes"
 },
 "nbformat": 3,
 "nbformat_minor": 0,
 "worksheets": [
  {
   "cells": [
    {
     "cell_type": "code",
     "collapsed": false,
     "input": [
      "import numpy.random as random\n",
      "m=450 #eV/(km/s)^2\n",
      "\n",
      "def contact(A,R,T,r,t,z):\n",
      "    \n",
      "    #kinetic energy in eV\n",
      "    E=random.normal(4,1.5)\n",
      "    \n",
      "    #plane distance in km\n",
      "    XYD=(sqrt(abs((r*cos(t))-(R*cos(T)))**2 + abs((r*sin(t))-(R*sin(T)))**2))\n",
      "    \n",
      "    #actual distance in km\n",
      "   \n",
      "    D=(sqrt(abs((r*cos(t))-(R*cos(T)))**2 + abs((r*sin(t))-(R*sin(T)))**2 + z))\n",
      "    \n",
      "    #arrival time s\n",
      "  \n",
      "    T=(D/sqrt(2*E/m))\n",
      "    \n",
      "    #cascade radius in km\n",
      " \n",
      "    R=(tan(A)*(15.-z))\n",
      "    \n",
      "    #array of arrival times\n",
      "    M=[]\n",
      "    v=0\n",
      "    for i in range (0,12):\n",
      "        if XYD[i] <=R[i]:\n",
      "        \n",
      "            M.append(T[i])\n",
      "        else:\n",
      "            M.append('None')\n",
      "    for i in M:\n",
      "        if i =='None':\n",
      "           v=v+1\n",
      "    if v>9:\n",
      "         return 'Discarded'\n",
      "    else:\n",
      "         return M\n",
      "    v=0"
     ],
     "language": "python",
     "metadata": {},
     "outputs": [],
     "prompt_number": 161
    },
    {
     "cell_type": "code",
     "collapsed": false,
     "input": [
      "Re=array([0.,.186,.239,.342,.322,.149,.495,.188,.260,.216,.207,.266])\n",
      "Te=array([0.,79.,144.,108.,167.,0.,340.,218.,192.,316.,243.,34.])\n",
      "Ze=array([.107,.117,.102,.114,.105,.118,.133,.105,.100,.120,.112,.124])"
     ],
     "language": "python",
     "metadata": {},
     "outputs": [],
     "prompt_number": 128
    },
    {
     "cell_type": "code",
     "collapsed": false,
     "input": [
      "contact((pi/80),.65*numpy.random.random(1),2*pi*numpy.random.random(1),Re,Te,Ze)"
     ],
     "language": "python",
     "metadata": {},
     "outputs": [
      {
       "output_type": "pyout",
       "prompt_number": 168,
       "text": [
        "[5.9813564472452203,\n",
        " 'None',\n",
        " 4.8596611038153981,\n",
        " 5.2154062840827731,\n",
        " 'None',\n",
        " 4.9836666962389824,\n",
        " 4.0765066261062817,\n",
        " 'None',\n",
        " 'None',\n",
        " 'None',\n",
        " 'None',\n",
        " 'None']"
       ]
      }
     ],
     "prompt_number": 168
    },
    {
     "cell_type": "code",
     "collapsed": false,
     "input": [
      "def funct(N):\n",
      "    U=[]\n",
      "    for i in range (0,N):\n",
      "        U.append(contact((pi/80),.65*numpy.random.random(1),2*pi*numpy.random.random(1),Re,Te,Ze))\n",
      "        \n",
      "    return U"
     ],
     "language": "python",
     "metadata": {},
     "outputs": [],
     "prompt_number": 195
    },
    {
     "cell_type": "code",
     "collapsed": false,
     "input": [
      "funct(3)"
     ],
     "language": "python",
     "metadata": {},
     "outputs": [
      {
       "output_type": "pyout",
       "prompt_number": 200,
       "text": [
        "[[3.3776921557530373,\n",
        "  'None',\n",
        "  3.173445322004576,\n",
        "  2.6112883446289432,\n",
        "  'None',\n",
        "  2.9393430839415373,\n",
        "  2.441905359066753,\n",
        "  4.244541695035978,\n",
        "  'None',\n",
        "  3.3830295657435889,\n",
        "  'None',\n",
        "  4.3159759758520027],\n",
        " [3.1885573419911202,\n",
        "  3.6379867524725795,\n",
        "  4.3810378534656058,\n",
        "  3.4430277321299001,\n",
        "  4.1755232816626027,\n",
        "  3.7676820942485785,\n",
        "  4.9549182300222565,\n",
        "  4.0223114057509806,\n",
        "  3.6906220550053632,\n",
        "  2.8452906262679805,\n",
        "  4.116189567076451,\n",
        "  3.107408360040993],\n",
        " [2.2339192272464956,\n",
        "  2.8225159099528327,\n",
        "  2.4580341075101626,\n",
        "  3.1379055149761514,\n",
        "  3.347263040989251,\n",
        "  2.3623661988860656,\n",
        "  3.8653310510057266,\n",
        "  2.6105799817419202,\n",
        "  3.0231707936142338,\n",
        "  2.8388269139594509,\n",
        "  2.7662457891453829,\n",
        "  3.2108566480353757]]"
       ]
      }
     ],
     "prompt_number": 200
    },
    {
     "cell_type": "code",
     "collapsed": false,
     "input": [],
     "language": "python",
     "metadata": {},
     "outputs": []
    }
   ],
   "metadata": {}
  }
 ]
}