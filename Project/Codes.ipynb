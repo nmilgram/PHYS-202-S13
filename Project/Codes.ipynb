{
 "metadata": {
  "name": "Codes"
 },
 "nbformat": 3,
 "nbformat_minor": 0,
 "worksheets": [
  {
   "cells": [
    {
     "cell_type": "code",
     "collapsed": false,
     "input": [
      "def angle_cascade(N):\n",
      "    a=numpy.random.random(N)\n",
      "    return a"
     ],
     "language": "python",
     "metadata": {},
     "outputs": [],
     "prompt_number": 1
    },
    {
     "cell_type": "code",
     "collapsed": false,
     "input": [
      "def r_location_cascade(N):\n",
      "    r=.65*numpy.random.random(N)\n",
      "    return r"
     ],
     "language": "python",
     "metadata": {},
     "outputs": [],
     "prompt_number": 2
    },
    {
     "cell_type": "code",
     "collapsed": false,
     "input": [
      "def angle_location_cascade(N):\n",
      "    t=2*pi*numpy.random.random(N)\n",
      "    return t"
     ],
     "language": "python",
     "metadata": {},
     "outputs": [],
     "prompt_number": 4
    },
    {
     "cell_type": "code",
     "collapsed": false,
     "input": [
      "E="
     ],
     "language": "python",
     "metadata": {},
     "outputs": [
      {
       "ename": "SyntaxError",
       "evalue": "invalid syntax (<ipython-input-3-8f05a322e37e>, line 1)",
       "output_type": "pyerr",
       "traceback": [
        "\u001b[1;36m  File \u001b[1;32m\"<ipython-input-3-8f05a322e37e>\"\u001b[1;36m, line \u001b[1;32m1\u001b[0m\n\u001b[1;33m    E=\u001b[0m\n\u001b[1;37m      ^\u001b[0m\n\u001b[1;31mSyntaxError\u001b[0m\u001b[1;31m:\u001b[0m invalid syntax\n"
       ]
      }
     ],
     "prompt_number": 3
    },
    {
     "cell_type": "code",
     "collapsed": false,
     "input": [
      "def distribute1D(x,prob,N):\n",
      "    \n",
      "    f=prob\n",
      "    \n",
      "    F=cumsum(f(x))/sum(f(x))\n",
      "    \n",
      "    z=numpy.random.random_sample(N);\n",
      "\n",
      "    Index= F.searchsorted(z)\n",
      "    \n",
      "    n,bins,patches = hist(x[Index],50, normed=True, label='Sampled Distribution')\n",
      "\n",
      "    plot(x, f(x)*max(n), label='True Distribution', color='red',lw=3)\n",
      "    #ylim(0,1)\n",
      "    xlabel('x')\n",
      "    ylabel('Probability')\n",
      "    \n",
      "    legend(loc=0)\n",
      "    show()"
     ],
     "language": "python",
     "metadata": {},
     "outputs": [],
     "prompt_number": 40
    },
    {
     "cell_type": "code",
     "collapsed": false,
     "input": [
      "distribute1D(arange(0.,10.1,.1),lambda x:1/(1.5*sqrt(2*3.14))*e**(-(x-4)**2/(2*1.5**2)),1000)"
     ],
     "language": "python",
     "metadata": {},
     "outputs": [
      {
       "output_type": "display_data",
       "png": "[encoded data removed]"
      }
     ],
     "prompt_number": 41
    },
    {
     "cell_type": "code",
     "collapsed": false,
     "input": [
      "import numpy\n",
      "random.gauss(4,1.5)\n",
      "numpy.random.gauss(4,1.5)"
     ],
     "language": "python",
     "metadata": {},
     "outputs": [
      {
       "ename": "AttributeError",
       "evalue": "'module' object has no attribute 'gauss'",
       "output_type": "pyerr",
       "traceback": [
        "\u001b[1;31m---------------------------------------------------------------------------\u001b[0m\n\u001b[1;31mAttributeError\u001b[0m                            Traceback (most recent call last)",
        "\u001b[1;32m<ipython-input-59-6de1f1a81a91>\u001b[0m in \u001b[0;36m<module>\u001b[1;34m()\u001b[0m\n\u001b[0;32m      1\u001b[0m \u001b[1;32mimport\u001b[0m \u001b[0mnumpy\u001b[0m\u001b[1;33m\u001b[0m\u001b[0m\n\u001b[1;32m----> 2\u001b[1;33m \u001b[0mrandom\u001b[0m\u001b[1;33m.\u001b[0m\u001b[0mgauss\u001b[0m\u001b[1;33m(\u001b[0m\u001b[1;36m4\u001b[0m\u001b[1;33m,\u001b[0m\u001b[1;36m1.5\u001b[0m\u001b[1;33m)\u001b[0m\u001b[1;33m\u001b[0m\u001b[0m\n\u001b[0m\u001b[0;32m      3\u001b[0m \u001b[0mnumpy\u001b[0m\u001b[1;33m.\u001b[0m\u001b[0mrandom\u001b[0m\u001b[1;33m.\u001b[0m\u001b[0mgauss\u001b[0m\u001b[1;33m(\u001b[0m\u001b[1;36m4\u001b[0m\u001b[1;33m,\u001b[0m\u001b[1;36m1.5\u001b[0m\u001b[1;33m)\u001b[0m\u001b[1;33m\u001b[0m\u001b[0m\n",
        "\u001b[1;31mAttributeError\u001b[0m: 'module' object has no attribute 'gauss'"
       ]
      }
     ],
     "prompt_number": 59
    },
    {
     "cell_type": "code",
     "collapsed": false,
     "input": [
      "E=1\n",
      "m=1\n",
      "\n",
      "def contact(A,R,T,r,t,z):\n",
      "    \n",
      "    #plane distance\n",
      "    XYD=(sqrt(abs((r*cos(t))-(R*cos(T)))**2 + abs((r*sin(t))-(R*sin(T)))**2))\n",
      "    \n",
      "    #actual distance\n",
      "   \n",
      "    D=(sqrt(abs((r*cos(t))-(R*cos(T)))**2 + abs((r*sin(t))-(R*sin(T)))**2 + z))\n",
      "    \n",
      "    #arrival time\n",
      "  \n",
      "    T=(D/sqrt(2*E/m))\n",
      "    \n",
      "    #cascade radius\n",
      " \n",
      "    R=(tan(A)/(15.-z))\n",
      "    \n",
      "    #array of arrival times\n",
      "    M=[(0)]\n",
      "    \n",
      "    for i in range (1,12):\n",
      "        if D[i] <=R[i]:\n",
      "        \n",
      "            M.append('Time')\n",
      "        else:\n",
      "            M.append('None')\n",
      "    return M"
     ],
     "language": "python",
     "metadata": {},
     "outputs": [],
     "prompt_number": 18
    },
    {
     "cell_type": "code",
     "collapsed": false,
     "input": [
      "r=array([.1,.2,.3,.4,.5,.6,.7,.8,.9,1.0,1.1,1.2])\n",
      "t=array([.1,.2,.3,.4,.5,.6,.7,.8,.9,1.0,1.1,1.2])\n",
      "R=1.\n",
      "T=1.\n",
      "A=1.\n",
      "\n",
      "XYD=(sqrt(abs((r*cos(t))-(R*cos(T)))**2 + abs((r*sin(t))-(R*sin(T)))**2))\n",
      "print XYD"
     ],
     "language": "python",
     "metadata": {},
     "outputs": [
      {
       "output_type": "stream",
       "stream": "stdout",
       "text": [
        "[ 0.94110467  0.87253499  0.79441468  0.7069169   0.61026014  0.50470467\n",
        "  0.3905495   0.26812959  0.13781329  0.          0.14488215  0.2963785 ]\n"
       ]
      }
     ],
     "prompt_number": 8
    },
    {
     "cell_type": "code",
     "collapsed": false,
     "input": [
      "contact(1.,1.,1.,array([.1,.2,.3,.4,.5,.6,.7,.8,.9,1.0,1.1,1.2]),array([.1,.2,.3,.4,.5,.6,.7,.8,.9,1.0,1.1,1.]),array([.1,.2,.3,.4,.5,.6,.7,.8,.9,1.0,1.1,1.2]))"
     ],
     "language": "python",
     "metadata": {},
     "outputs": [
      {
       "output_type": "pyout",
       "prompt_number": 19,
       "text": [
        "[0,\n",
        " 'None',\n",
        " 'None',\n",
        " 'None',\n",
        " 'None',\n",
        " 'None',\n",
        " 'None',\n",
        " 'None',\n",
        " 'None',\n",
        " 'None',\n",
        " 'None',\n",
        " 'None']"
       ]
      }
     ],
     "prompt_number": 19
    },
    {
     "cell_type": "code",
     "collapsed": false,
     "input": [
      "r=[1.,2.,3.,4.,5.,6.,7,.8,.9,.10,.11,.12]\n",
      "t=[1.,2.,3.,4.,5.,6.,.7,.8,.9,.10,.11,.12]\n",
      "R=1.\n",
      "T=1.\n",
      "A=1.\n",
      "\n",
      "XYD=[(0)]\n",
      "for i in range (0,11):\n",
      "    print i\n",
      "    XYD.append(sqrt(abs((r[i]*cos(t[i]))-(R*cos(T)))**2 + abs((r[i]*sin(t[i]))-(R*sin(T)))**2))\n",
      "print XYD"
     ],
     "language": "python",
     "metadata": {},
     "outputs": [
      {
       "output_type": "stream",
       "stream": "stdout",
       "text": [
        "0\n",
        "1\n",
        "2\n",
        "3\n",
        "4\n",
        "5\n",
        "6\n",
        "7\n",
        "8\n",
        "9\n",
        "10\n",
        "[0, 0.0, 1.6848711453780201, 3.5350927879311533, 4.9919875773887457, 5.7040718972183475, 5.7962102941871665, 6.0518831079459492, 0.26812958705449375, 0.1378132885448774, 0.94110467342685489, 0.93468141853456499]\n"
       ]
      }
     ],
     "prompt_number": 1
    },
    {
     "cell_type": "code",
     "collapsed": false,
     "input": [],
     "language": "python",
     "metadata": {},
     "outputs": []
    }
   ],
   "metadata": {}
  }
 ]
}