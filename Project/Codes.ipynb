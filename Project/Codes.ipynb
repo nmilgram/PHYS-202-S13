{
 "metadata": {
  "name": "Codes"
 },
 "nbformat": 3,
 "nbformat_minor": 0,
 "worksheets": [
  {
   "cells": [
    {
     "cell_type": "markdown",
     "metadata": {},
     "source": [
      "Multilateration for cosmic ray detection\n",
      "========================================"
     ]
    },
    {
     "cell_type": "markdown",
     "metadata": {},
     "source": [
      "High energy cosmic rays are particles that bombard the earth from all over the cosmos.\n",
      "Some are generated in the sun, some from distant supernova explosions, some have as\n",
      "yet unknown origins. When they interact with nuclei in the upper atmosphere, they can\n",
      "produce cascades of high energy particles in a process known as a cosmic air shower.\n",
      "Figure 1 shows the development of such a shower when an iron nucleus created in a distant\n",
      "supernova collides with a Nitrogen nucleus near the top of the atmosphere, usually tens of\n",
      "kilometers above earth's surface. After the primary particle interaction, many more particles are produced in secondary\n",
      "interactions. Since the incident particle is typically traveling at close to the speed of light,\n",
      "the secondary particles are also very high energy and develop in a cone-shaped shower\n",
      "within about 1\u000e around the original cosmic ray's direction. The particles that are most\n",
      "likely to reach the ground are muons produced in secondary interactions and particle decays.\n",
      "Muons are from the same family of elementary particles as electrons, a group called\n",
      "leptons. There are two charge signs for muons and they have roughly 200 times the mass\n",
      "of an electron. Muons interact very little with matter except by ionization. Most of the\n",
      "muons that arrive at earth's surface were created in interactions at altitudes of about 15\n",
      "km, with mean energy at creation of about 6 GeV/c2. They lose about 2 GeV/c2to\n",
      "ionization before reaching the ground. The average ux of muons at sea level is about 1muon per square centimeter per minute.\n",
      "Muons at rest have a decay half-life of 2.2 \u0016s. Classically, if they are traveling at the\n",
      "speed of light, they should only be able to descend about 660 m before decaying. But since\n",
      "they are traveling at relativistic speeds, their lifetimes are extended due to time dilation,\n",
      "which enables a very large fraction of them to reach the ground before they have a chance\n",
      "to decay.\n",
      "Muons can be detected using a scintillation detector, which emits photons when a\n",
      "charged particle passes through it. The light can be collected and digitized to indicate the\n",
      "passage of a muon. An array of scintillation detectors can be used to calculate the angle\n",
      "of origin of a primary cosmic ray from the time-of-arrival di\u000b",
      "erences of muons from the\n",
      "cosmic air shower."
     ]
    },
    {
     "cell_type": "markdown",
     "metadata": {},
     "source": [
      "For this project, you will simulate and then reconstruct the trajectories of primary cosmic\n",
      "rays using secondary muon arrival times at detectors located on the rooftops of various Cal\n",
      "Poly buildings with a technique known as multilateration. Your program will be divided\n",
      "into two parts - the simulation component and the reconstruction algorithms.\n",
      "Before you can create the program, you will need to do a little research to decide how\n",
      "many detectors you will need (between 8 and 20) and where to place them. Once you\n",
      "have the detector locations, you will need to choose an origin for your coordinate system\n",
      "(I recommend using one of the detectors as the origin) and measure/estimate/look up the\n",
      "locations of all other detectors relative to the origin. You will need to have a good estimate\n",
      "of all three coordinates, (x; y; z), for each detector, to within about one meter. Once you\n",
      "have your array, you can begin the simulation and reconstruction."
     ]
    },
    {
     "cell_type": "markdown",
     "metadata": {},
     "source": [
      "The Following sensor locations were chosen:\n",
      "\n",
      "<table>\n",
      "  <thead>\n",
      "    <tr>\n",
      "      <th>Building</th>\n",
      "      <th>R</th>\n",
      "      <th>$\\theta$</th>\n",
      "      <th>Z</th>\n",
      "    </tr>\n",
      "  </thead>\n",
      "  <tbody>\n",
      "    <tr>\n",
      "      <td>Building 52</td>\n",
      "      <td>0m</td>\n",
      "      <td>$0^\\circ$</td>\n",
      "      <td>107m</td>\n",
      "    </tr>\n",
      "    <tr>\n",
      "      <td>Building 53</td>\n",
      "      <td>186m</td>\n",
      "      <td>$79^\\circ$</td>\n",
      "      <td>117m</td>\n",
      "    </tr>\n",
      "    <tr>\n",
      "      <td>Building 38</td>\n",
      "      <td>239m</td>\n",
      "      <td>$144^\\circ$</td>\n",
      "      <td>102m</td>\n",
      "    </tr>\n",
      "    <tr>\n",
      "      <td>Building 35</td>\n",
      "      <td>342m</td>\n",
      "      <td>$108^\\circ$</td>\n",
      "      <td>114m</td>\n",
      "    </tr>\n",
      "    <tr>\n",
      "      <td>Building 34</td>\n",
      "      <td>322m</td>\n",
      "      <td>$167^\\circ$</td>\n",
      "      <td>105m</td>\n",
      "    </tr>\n",
      "    <tr>\n",
      "      <td>University Union</td>\n",
      "      <td>149m</td>\n",
      "      <td>$0^\\circ$</td>\n",
      "      <td>118m</td>\n",
      "    </tr>\n",
      "    <tr>\n",
      "      <td>Sierra Madre</td>\n",
      "      <td>495m</td>\n",
      "      <td>$340^\\circ$</td>\n",
      "      <td>133m</td>\n",
      "    </tr>\n",
      "    <tr>\n",
      "      <td>Building 26</td>\n",
      "      <td>188m</td>\n",
      "      <td>$218^\\circ$</td>\n",
      "      <td>105m</td>\n",
      "    </tr>\n",
      "    <tr>\n",
      "      <td>Building 21</td>\n",
      "      <td>260m</td>\n",
      "      <td>$192^\\circ$</td>\n",
      "      <td>100m</td>\n",
      "    </tr>\n",
      "    <tr>\n",
      "      <td>Performance Hall</td>\n",
      "      <td>216m</td>\n",
      "      <td>$316^\\circ$</td>\n",
      "      <td>120m</td>\n",
      "    </tr>\n",
      "    <tr>\n",
      "      <td>Recreatin Center</td>\n",
      "      <td>207m</td>\n",
      "      <td>$243^\\circ$</td>\n",
      "      <td>112m</td>\n",
      "    <tr>\n",
      "      <td>Santa Lucia</td>\n",
      "      <td>266m</td>\n",
      "      <td>$34^\\circ$</td>\n",
      "      <td>124m</td>\n",
      "    </tr>\n",
      "    </tr>\n",
      "  </tbody>\n",
      "</table>\n",
      "\n",
      "I've chosen to work in cyllindrical coordinates. Here, R represents radial distance, $\\theta$ represents the angular coordinate, and Z represents height above sea level."
     ]
    },
    {
     "cell_type": "code",
     "collapsed": false,
     "input": [
      "#Now to begin reconstruction:\n",
      "import numpy.random as random\n",
      "m=450 #eV/(km/s)^2  the mass of one muon\n",
      "\n",
      "def contact(A,R,T,r,t,z):  #A=cascade angle  R=cascade radial coordinate   T=cascade angular coordinate   r=sensor radial coordinate  t=sensor angular coordinate z=sensor height coordinate\n",
      "    \n",
      "    #kinetic energy in eV\n",
      "    E=random.normal(400000000000,150000000000)  #Generates a random value for the particle's kinetic energy according to a gausian.\n",
      "    \n",
      "    #plane distance in km\n",
      "    XYD=(sqrt(abs((r*cos(t))-(R*cos(T)))**2 + abs((r*sin(t))-(R*sin(T)))**2))  #Gives planar distance between cascade origin and a detector, no z component.\n",
      "    \n",
      "    #actual distance in km\n",
      "    D=sqrt((XYD)**2 + (15.-z)**2)  #cascade height is assumed to be 15 km\n",
      "    \n",
      "    #arrival time s  \n",
      "    T=(D/sqrt(2*E/m))  #distance over velocity, latter calculated given kinetic energy E\n",
      "    \n",
      "    #cascade radius in km \n",
      "    R=(tan(A)*(15.-z))\n",
      "    \n",
      "    #list of arrival times\n",
      "    M=[]  #list initialized\n",
      "    v=0  #count of detectors not hit, initialized at 0\n",
      "    for i in range (0,12):\n",
      "        if XYD[i] <=R[i]:  #determines if detector is within range\n",
      "        \n",
      "            M.append(T[i])\n",
      "        else:\n",
      "            M.append('None')  #if it is not, no arrival time, appends 'None' to the list\n",
      "    #counting'None's in the list:       \n",
      "    for i in M:\n",
      "        if i =='None':\n",
      "           v=v+1  #counts the 'None's\n",
      "    if v>9:\n",
      "         return 'Discarded'  #if no more than 3 detectors are hit (12-9=3), the event is discarded\n",
      "    else:\n",
      "         return M\n",
      "    v=0"
     ],
     "language": "python",
     "metadata": {},
     "outputs": [],
     "prompt_number": 4
    },
    {
     "cell_type": "code",
     "collapsed": false,
     "input": [
      "#now to set the arrays for the detector locations to call upon:\n",
      "Re=array([0.,.186,.239,.342,.322,.149,.495,.188,.260,.216,.207,.266])  #radius location km\n",
      "Te=array([0.,79.,144.,108.,167.,0.,340.,218.,192.,316.,243.,34.])  #angle lication degrees\n",
      "Ze=array([.107,.117,.102,.114,.105,.118,.133,.105,.100,.120,.112,.124])  #z location km"
     ],
     "language": "python",
     "metadata": {},
     "outputs": [],
     "prompt_number": 5
    },
    {
     "cell_type": "code",
     "collapsed": false,
     "input": [
      "#now to test the function:\n",
      "contact((pi/80),.65*numpy.random.random(1),2*pi*numpy.random.random(1),Re,Te,Ze)  #1 degree in radians is pi/80, radial location is random between 0 and .65 km, angualr location is random betwen 0 and 2pi"
     ],
     "language": "python",
     "metadata": {},
     "outputs": [
      {
       "output_type": "pyout",
       "prompt_number": 6,
       "text": [
        "[0.00029943202240957677,\n",
        " 0.00029914562184966937,\n",
        " 0.00029960074917204479,\n",
        " 'None',\n",
        " 0.00029935104207847525,\n",
        " 0.00029928784426389298,\n",
        " 'None',\n",
        " 0.00029938473504072764,\n",
        " 0.00029947310482234115,\n",
        " 'None',\n",
        " 0.00029923268376611092,\n",
        " 0.00029911248660343976]"
       ]
      }
     ],
     "prompt_number": 6
    },
    {
     "cell_type": "markdown",
     "metadata": {},
     "source": [
      "The function successfully returns an array of detector arrival times for a single cascade event"
     ]
    },
    {
     "cell_type": "code",
     "collapsed": false,
     "input": [
      "#We must call on this function repeatedly for several cascade events.\n",
      "Ractual=[]  #list of simulated cascade radial coordinates initialized\n",
      "Tactual=[]  #list of simulated cascade angulat coordinates initialized. These two lists are collected here for later comparison with reconstructed data.\n",
      "def funct(N):\n",
      "    U=[]  #initialized list for arrays of travel times\n",
      "    Q=[]  #initialized list for final data, which will account for setting initial t to 0 and our makeshift uncertainty.\n",
      "    \n",
      "    for i in range (0,N):\n",
      "        ractual=float(.65*numpy.random.random(1))\n",
      "        tactual=float(2*pi*numpy.random.random(1))  \n",
      "        Ractual.append(ractual)\n",
      "        Tactual.append(tactual)  #appends our coordinate lists\n",
      "        U.append(contact((pi/80),ractual,tactual,Re,Te,Ze))  #appends travel time list\n",
      "    \n",
      "    for j in U:\n",
      "        \n",
      "        m=min(j)\n",
      "        \n",
      "        for k in j:\n",
      "            \n",
      "            if k=='None':\n",
      "                \n",
      "                Q.append(-1.)   #for writing to a text file, all values must be floats, so we replace the strings with the impossible value -1\n",
      "            else:\n",
      "                Q.append(k-m+(k-m)*float((numpy.random.random(1)*(.1)-.05))) #treats the initial travel time as 0, plus creates a small deviation to simulate uncertainty\n",
      "             \n",
      "    S=array(Q).reshape(N,12)  #changes the q list into an array with N lines of 12 time values; one for each detector\n",
      "    \n",
      "    savetxt('CascadeData.dat',S)  #writes data to a text file\n",
      "    \n",
      "\n",
      "       "
     ],
     "language": "python",
     "metadata": {},
     "outputs": [],
     "prompt_number": 7
    },
    {
     "cell_type": "code",
     "collapsed": false,
     "input": [
      "funct(4) #Calls on the above function for 4 cascade events. Simulation portion complete."
     ],
     "language": "python",
     "metadata": {},
     "outputs": [],
     "prompt_number": 8
    },
    {
     "cell_type": "code",
     "collapsed": false,
     "input": [
      "print Ractual,Tactual  #confirms that coordinate lists for the cascade events were created to be compared to reconstructed values later."
     ],
     "language": "python",
     "metadata": {},
     "outputs": [
      {
       "output_type": "stream",
       "stream": "stdout",
       "text": [
        "[0.5716279482260891, 0.1407651717701604, 0.5801953364377292, 0.2007370204978122] [4.284254407589981, 2.7374109387327197, 1.96062221437547, 5.399213410945219]\n"
       ]
      }
     ],
     "prompt_number": 9
    },
    {
     "cell_type": "code",
     "collapsed": false,
     "input": [
      "Xactual=Ractual*cos(Tactual)\n",
      "Yactual=Ractual*sin(Tactual)\n",
      "print Xactual, Yactual"
     ],
     "language": "python",
     "metadata": {},
     "outputs": [
      {
       "output_type": "stream",
       "stream": "stdout",
       "text": [
        "[-0.23732533 -0.12942295 -0.22049011  0.1272843 ] [-0.52003384  0.05535823  0.53666632 -0.15522261]\n"
       ]
      }
     ],
     "prompt_number": 10
    },
    {
     "cell_type": "markdown",
     "metadata": {},
     "source": [
      "And now to begin reconstruction,"
     ]
    },
    {
     "cell_type": "code",
     "collapsed": false,
     "input": [
      "Dataf=loadtxt('CascadeData.dat')\n",
      "D=[]\n",
      "N=0\n",
      "for i in Dataf:\n",
      "    N+=1\n",
      "    for j in i:\n",
      "        if j!=-1 and j!=0:\n",
      "            D.append(j)\n",
      "        else:\n",
      "            D.append ('None')\n",
      "Data=array(D).reshape(N,12)\n",
      "print Data   #loads data from the created text file and confirms that it was loaded successfully."
     ],
     "language": "python",
     "metadata": {},
     "outputs": [
      {
       "output_type": "stream",
       "stream": "stdout",
       "text": [
        "[['2.867916' 'None' 'None' 'None' '2.024703' 'None' 'None' '2.161895'\n",
        "  '3.499511' 'None' '5.881165' 'None']\n",
        " ['4.013209' '1.821029' '6.469306' '3.524700' '4.940488' '1.983097'\n",
        "  '3.351014' '5.078651' '5.872659' '1.095319' '3.391929' 'None']\n",
        " ['5.608286' 'None' 'None' '2.505814' 'None' 'None' 'None' 'None' 'None'\n",
        "  '7.188401' 'None' 'None']\n",
        " ['4.538948' '2.546350' '5.597267' '4.637929' '6.686583' '1.623242' 'None'\n",
        "  '5.109886' '7.210181' '2.266028' '3.509053' '1.674266']]\n"
       ]
      }
     ],
     "prompt_number": 11
    },
    {
     "cell_type": "code",
     "collapsed": false,
     "input": [
      "#we are switching from cyllindrical to cartesian coordinates, so the following conversion is necessary for the coordinates of the detectors:\n",
      "xm=array(Re*cos(Te))\n",
      "ym=array(Re*sin(Te))\n",
      "zm=array(Ze)\n",
      "print xm\n",
      "print ym\n",
      "print zm"
     ],
     "language": "python",
     "metadata": {},
     "outputs": [
      {
       "output_type": "stream",
       "stream": "stdout",
       "text": [
        "[ 0.         -0.1666506   0.20820423  0.12842428 -0.28325973  0.149\n",
        "  0.37603581 -0.06281775 -0.24307132 -0.05760115 -0.09438005 -0.22571969]\n",
        "[ 0.         -0.08260496 -0.11735416  0.31697193 -0.15312716  0.\n",
        "  0.32190382 -0.17719461 -0.09228397  0.20817807 -0.18423194  0.14073599]\n",
        "[ 0.107  0.117  0.102  0.114  0.105  0.118  0.133  0.105  0.1    0.12\n",
        "  0.112  0.124]\n"
       ]
      }
     ],
     "prompt_number": 12
    },
    {
     "cell_type": "code",
     "collapsed": false,
     "input": [
      "#and now to call upon the famous multilateration algorithm\n",
      "import numpy as np\n",
      "\n",
      "def multilat(xd,yd,zd):\n",
      "    \n",
      "    v=float(sqrt(2*400000000000/m))  #gives the muon velocity, we are assuming an energy of 4GeV\n",
      "       \n",
      "    a=[] #initializes a new list to be created from our data  for the purpose of finding the minimum time value besides 0.\n",
      "    for j in i:\n",
      "        if j >0:\n",
      "            a.append(j)\n",
      "        else:\n",
      "            a.append('None') #for the 'None' values that were replaced with -1, we now replace them again with 'None'. We also replace the 0 values with 'None', as we will attempt to find the minimum time value excluding 0.\n",
      "    det=1  #will determine which detector has the value min(a), initialized at 0\n",
      "    breaker = 0  #will determine when the for loop ceases\n",
      "    for j in i:\n",
      "        if j != min(a) and breaker == 0:\n",
      "            det +=1    #increments det\n",
      "            \n",
      "        else:\n",
      "            breaker +=1  #effectively breaks the loop\n",
      "        \n",
      "        \n",
      "    #to carry out the multilateration algorithm, Am, Bm, Cm, and Dm must be found, and are arrays in this case.\n",
      "    \n",
      "    tmin=min(a)\n",
      "\n",
      "    Aml=list((2*xd)/(v*i) - (2*xd[det-1])/(v*tmin))\n",
      "#    Bml=list((2*yd)/(v*i) - (2*yd[det-1])/(v*tmin))\n",
      " #   Cml=list((2*zd)/(v*i) - (2*zd[det-1])/(v*tmin))\n",
      " #   Dml=list((v*i)-(v*tmin)-(xd**2 +yd**2 +zd**2)/(v*i) + (xd[det-1]**2 +yd[det-1]**2 +zd[det-1]**2)/(v*tmin))\n",
      "    \n",
      "    #the first and second detectors hit are essentially used as references for this algorithm, and if left in the data set, would return values of 0 and infinity. These two values must be removed:\n",
      "   \n",
      "    \n",
      "#    Amln=[]\n",
      "#    for q in Aml:\n",
      "#        if q !=inf and q>0:\n",
      " #           Amln.append(q)\n",
      "#    Bmln=[]\n",
      "#    for g in Bml:\n",
      "#        if g !=inf and g>0:\n",
      "#            Bmln.append(g)\n",
      "#    Cmln=[]\n",
      "#    for qe in Cml:\n",
      "#        if qe !=inf and qe>0:\n",
      "#            Cmln.append(qe)\n",
      "#    Dmln=[]\n",
      "#    for rt in Dml:\n",
      " #       if rt !=inf and rt>0:\n",
      " #           Dmln.append(rt)\n",
      "            \n",
      "            \n",
      "            \n",
      "            \n",
      "            \n",
      "            \n",
      "            \n",
      "            \n",
      "            \n",
      "    #now to create a pair of useable arrays that can be used to solve a system of equations:\n",
      "    \n",
      " #   Am=array(Aml).reshape(10,1)\n",
      " #   Bm=array(Bml).reshape(10,1)\n",
      " #   Cm=array(Cml).reshape(10,1)\n",
      " #   Dm=array(Dml).reshape(10,1)\n",
      "    \n",
      "    \n",
      "#    ABC=np.column_stack((Am,Bm,Cm,O1,O2,O3,O4,O5,O6,O7))  #ABD is now an array of Am, Bm, and Cm column stacked togeather.\n",
      "    \n",
      "  #  ans=numpy.linalg.solve(ABC,-Dm)\n",
      "    return Aml"
     ],
     "language": "python",
     "metadata": {},
     "outputs": [],
     "prompt_number": 13
    },
    {
     "cell_type": "code",
     "collapsed": false,
     "input": [
      "for i in Data:\n",
      "    print multilat(xm,ym,zm)\n"
     ],
     "language": "python",
     "metadata": {},
     "outputs": [
      {
       "ename": "TypeError",
       "evalue": "unsupported operand type(s) for *: 'float' and 'numpy.ndarray'",
       "output_type": "pyerr",
       "traceback": [
        "\u001b[1;31m---------------------------------------------------------------------------\u001b[0m\n\u001b[1;31mTypeError\u001b[0m                                 Traceback (most recent call last)",
        "\u001b[1;32m<ipython-input-14-f7158a7d7dc1>\u001b[0m in \u001b[0;36m<module>\u001b[1;34m()\u001b[0m\n\u001b[0;32m      1\u001b[0m \u001b[1;32mfor\u001b[0m \u001b[0mi\u001b[0m \u001b[1;32min\u001b[0m \u001b[0mData\u001b[0m\u001b[1;33m:\u001b[0m\u001b[1;33m\u001b[0m\u001b[0m\n\u001b[1;32m----> 2\u001b[1;33m     \u001b[1;32mprint\u001b[0m \u001b[0mmultilat\u001b[0m\u001b[1;33m(\u001b[0m\u001b[0mxm\u001b[0m\u001b[1;33m,\u001b[0m\u001b[0mym\u001b[0m\u001b[1;33m,\u001b[0m\u001b[0mzm\u001b[0m\u001b[1;33m)\u001b[0m\u001b[1;33m\u001b[0m\u001b[0m\n\u001b[0m",
        "\u001b[1;32m<ipython-input-13-5e44d850a2df>\u001b[0m in \u001b[0;36mmultilat\u001b[1;34m(xd, yd, zd)\u001b[0m\n\u001b[0;32m     26\u001b[0m     \u001b[0mtmin\u001b[0m\u001b[1;33m=\u001b[0m\u001b[0mmin\u001b[0m\u001b[1;33m(\u001b[0m\u001b[0ma\u001b[0m\u001b[1;33m)\u001b[0m\u001b[1;33m\u001b[0m\u001b[0m\n\u001b[0;32m     27\u001b[0m \u001b[1;33m\u001b[0m\u001b[0m\n\u001b[1;32m---> 28\u001b[1;33m     \u001b[0mAml\u001b[0m\u001b[1;33m=\u001b[0m\u001b[0mlist\u001b[0m\u001b[1;33m(\u001b[0m\u001b[1;33m(\u001b[0m\u001b[1;36m2\u001b[0m\u001b[1;33m*\u001b[0m\u001b[0mxd\u001b[0m\u001b[1;33m)\u001b[0m\u001b[1;33m/\u001b[0m\u001b[1;33m(\u001b[0m\u001b[0mv\u001b[0m\u001b[1;33m*\u001b[0m\u001b[0mi\u001b[0m\u001b[1;33m)\u001b[0m \u001b[1;33m-\u001b[0m \u001b[1;33m(\u001b[0m\u001b[1;36m2\u001b[0m\u001b[1;33m*\u001b[0m\u001b[0mxd\u001b[0m\u001b[1;33m[\u001b[0m\u001b[0mdet\u001b[0m\u001b[1;33m-\u001b[0m\u001b[1;36m1\u001b[0m\u001b[1;33m]\u001b[0m\u001b[1;33m)\u001b[0m\u001b[1;33m/\u001b[0m\u001b[1;33m(\u001b[0m\u001b[0mv\u001b[0m\u001b[1;33m*\u001b[0m\u001b[0mtmin\u001b[0m\u001b[1;33m)\u001b[0m\u001b[1;33m)\u001b[0m\u001b[1;33m\u001b[0m\u001b[0m\n\u001b[0m\u001b[0;32m     29\u001b[0m \u001b[1;31m#    Bml=list((2*yd)/(v*i) - (2*yd[det-1])/(v*tmin))\u001b[0m\u001b[1;33m\u001b[0m\u001b[1;33m\u001b[0m\u001b[0m\n\u001b[0;32m     30\u001b[0m  \u001b[1;31m#   Cml=list((2*zd)/(v*i) - (2*zd[det-1])/(v*tmin))\u001b[0m\u001b[1;33m\u001b[0m\u001b[1;33m\u001b[0m\u001b[0m\n",
        "\u001b[1;31mTypeError\u001b[0m: unsupported operand type(s) for *: 'float' and 'numpy.ndarray'"
       ]
      }
     ],
     "prompt_number": 14
    },
    {
     "cell_type": "code",
     "collapsed": false,
     "input": [],
     "language": "python",
     "metadata": {},
     "outputs": [],
     "prompt_number": 14
    }
   ],
   "metadata": {}
  }
 ]
}