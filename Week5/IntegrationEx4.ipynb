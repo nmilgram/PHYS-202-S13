{
 "metadata": {
  "name": "IntegrationEx4"
 },
 "nbformat": 3,
 "nbformat_minor": 0,
 "worksheets": [
  {
   "cells": [
    {
     "cell_type": "markdown",
     "metadata": {},
     "source": [
      "Write code to calculate $E(x)$  for values of x from 0 to 3 in steps of 0.1. Choose for\n",
      "yourself what method you will use for performing the integral and a suitable number of\n",
      "slices."
     ]
    },
    {
     "cell_type": "code",
     "collapsed": false,
     "input": [
      "f= lambda t: e**(-t**2)"
     ],
     "language": "python",
     "metadata": {},
     "outputs": [],
     "prompt_number": 1
    },
    {
     "cell_type": "code",
     "collapsed": false,
     "input": [
      "def integral(x):\n",
      "    N=1000\n",
      "    a=0.0\n",
      "    b=x\n",
      "    h=(b-a)/N\n",
      "    s=0.5*f(a) + 0.5*f(b)\n",
      "    for k in range (1,N):\n",
      "        s+=f(a+k*h)\n",
      "    return h*s\n",
      "print integral(3)"
     ],
     "language": "python",
     "metadata": {},
     "outputs": [
      {
       "output_type": "stream",
       "stream": "stdout",
       "text": [
        "0.886207347704\n"
       ]
      }
     ],
     "prompt_number": 7
    },
    {
     "cell_type": "markdown",
     "metadata": {},
     "source": [
      "Make a graph of $E(x)$ as a function of x"
     ]
    },
    {
     "cell_type": "code",
     "collapsed": false,
     "input": [
      "x=arange(0.,11.,0.1)\n",
      "plot(x, integral(x))"
     ],
     "language": "python",
     "metadata": {},
     "outputs": [
      {
       "output_type": "pyout",
       "prompt_number": 12,
       "text": [
        "[<matplotlib.lines.Line2D at 0x31aee50>]"
       ]
      },
      {
       "output_type": "display_data",
       "png": "[encoded data removed]"
      }
     ],
     "prompt_number": 12
    },
    {
     "cell_type": "markdown",
     "metadata": {},
     "source": [
      "What is the probability of \f",
      "\n",
      "\n",
      "\n",
      "\n",
      "\n",
      "\n",
      "\n",
      "\n",
      "\n",
      "\n",
      "\n",
      "\n",
      "\n",
      "\n",
      "\n",
      "nding the particle between L/3 and L/2 for the ground\n",
      "\n",
      "\n",
      "\n",
      "\n",
      "\n",
      "\n",
      "\n",
      "\n",
      "\n",
      "\n",
      "\n",
      "\n",
      "\n",
      "\n",
      "\n",
      "state and for the \f",
      "\n",
      "\n",
      "\n",
      "\n",
      "\n",
      "\n",
      "\n",
      "\n",
      "\n",
      "\n",
      "\n",
      "\n",
      "\n",
      "\n",
      "\n",
      "first excited state? Perform the integral using both trapz and quad with\n",
      "\n",
      "\n",
      "\n",
      "\n",
      "\n",
      "\n",
      "\n",
      "\n",
      "\n",
      "\n",
      "\n",
      "\n",
      "\n",
      "\n",
      "\n",
      "an accuracy of 6 sig \f",
      "\n",
      "\n",
      "\n",
      "\n",
      "\n",
      "\n",
      "\n",
      "\n",
      "\n",
      "\n",
      "\n",
      "\n",
      "\n",
      "\n",
      "\n",
      "gs. How many bins did you need to use for trapz?"
     ]
    },
    {
     "cell_type": "code",
     "collapsed": false,
     "input": [
      "L=1\n",
      "f= lambda x: (2/L)*(sin(pi*x/L)**2)\n",
      "g= lambda x: (2/L)*(sin(2*pi*x/L)**2)"
     ],
     "language": "python",
     "metadata": {},
     "outputs": [],
     "prompt_number": 33
    },
    {
     "cell_type": "markdown",
     "metadata": {},
     "source": [
      "Trapezoidal n=1 state:"
     ]
    },
    {
     "cell_type": "code",
     "collapsed": false,
     "input": [
      "N=1000\n",
      "a=L/3.\n",
      "b=L/2.\n",
      "h=(b-a)/N\n",
      "s=0.5*f(a) + 0.5*f(b)\n",
      "for k in range (1,N):\n",
      "    s+=f(a+k*h)\n",
      "print h*s"
     ],
     "language": "python",
     "metadata": {},
     "outputs": [
      {
       "output_type": "stream",
       "stream": "stdout",
       "text": [
        "0.304498877926\n"
       ]
      }
     ],
     "prompt_number": 34
    },
    {
     "cell_type": "markdown",
     "metadata": {},
     "source": [
      "Trapezoidal n=1 state:"
     ]
    },
    {
     "cell_type": "code",
     "collapsed": false,
     "input": [
      "N=1000\n",
      "a=L/3.\n",
      "b=L/2.\n",
      "h=(b-a)/N\n",
      "s=0.5*f(a) + 0.5*f(b)\n",
      "for k in range (1,N):\n",
      "    s+=g(a+k*h)\n",
      "print h*s"
     ],
     "language": "python",
     "metadata": {},
     "outputs": [
      {
       "output_type": "stream",
       "stream": "stdout",
       "text": [
        "0.0979172465973\n"
       ]
      }
     ],
     "prompt_number": 35
    },
    {
     "cell_type": "markdown",
     "metadata": {},
     "source": [
      "Quad n=1 state:"
     ]
    },
    {
     "cell_type": "code",
     "collapsed": false,
     "input": [
      "import scipy.integrate as integrate\n",
      "result=integrate.quad(f, L/3., L/2.)\n",
      "print result"
     ],
     "language": "python",
     "metadata": {},
     "outputs": [
      {
       "output_type": "stream",
       "stream": "stdout",
       "text": [
        "(0.3044988905221147, 3.380616792304666e-15)\n"
       ]
      }
     ],
     "prompt_number": 36
    },
    {
     "cell_type": "markdown",
     "metadata": {},
     "source": [
      "Quad n=2 state:"
     ]
    },
    {
     "cell_type": "code",
     "collapsed": false,
     "input": [
      "import scipy.integrate as integrate\n",
      "result=integrate.quad(g, L/3., L/2.)\n",
      "print result"
     ],
     "language": "python",
     "metadata": {},
     "outputs": [
      {
       "output_type": "stream",
       "stream": "stdout",
       "text": [
        "(0.09775055473894274, 1.0852491654105595e-15)\n"
       ]
      }
     ],
     "prompt_number": 37
    },
    {
     "cell_type": "markdown",
     "metadata": {},
     "source": [
      "The probability for finding the particle betwen L/3 and L/2 is 30.4% for the ground state and 9.8% for the first excited state."
     ]
    },
    {
     "cell_type": "markdown",
     "metadata": {},
     "source": [
      "to see if these make sense make a plot of $abs(\\psi(x))^2$ vs. x for L=1."
     ]
    },
    {
     "cell_type": "code",
     "collapsed": false,
     "input": [
      "x=arange(0.,1.,.01)\n",
      "plot(x,(2/L)*(sin(pi*x/L)**2))\n",
      "plot(x,(2/L)*(sin(2*pi*x/L)**2))"
     ],
     "language": "python",
     "metadata": {},
     "outputs": [
      {
       "output_type": "pyout",
       "prompt_number": 38,
       "text": [
        "[<matplotlib.lines.Line2D at 0x3beb250>]"
       ]
      },
      {
       "output_type": "display_data",
       "png": "[encoded data removed]"
      }
     ],
     "prompt_number": 38
    },
    {
     "cell_type": "markdown",
     "metadata": {},
     "source": [
      "Write a user-de\f",
      "\n",
      "\n",
      "\n",
      "\n",
      "\n",
      "\n",
      "\n",
      "ned function H(n,x) that calculates Hn(x) for given x and any integer\n",
      "\n",
      "\n",
      "\n",
      "\n",
      "\n",
      "\n",
      "\n",
      "n => 0. Use your function to make a plot that shows the wave functions for n=0, 1, 2,\n",
      "\n",
      "\n",
      "\n",
      "\n",
      "\n",
      "\n",
      "\n",
      "and 3, all on the same graph, in the range x = -4 to x = 4. Hint: There is a function\n",
      "\n",
      "\n",
      "\n",
      "\n",
      "\n",
      "\n",
      "\n",
      "factorial in the math package that calculates the factorial of an integer."
     ]
    },
    {
     "cell_type": "code",
     "collapsed": false,
     "input": [
      "import math"
     ],
     "language": "python",
     "metadata": {},
     "outputs": [],
     "prompt_number": 1
    },
    {
     "cell_type": "code",
     "collapsed": false,
     "input": [
      "def H(n,x):\n",
      "    if n==0:\n",
      "        Herm=1\n",
      "    elif n==1:\n",
      "        Herm=2*x\n",
      "    elif n==2:\n",
      "        Herm=4*x**2 -2\n",
      "    else:\n",
      "        h2=1\n",
      "        h1=2*x\n",
      "        hn=2*x*h1 - 2*h2\n",
      "        for i in range(2,n):\n",
      "            Herm=2*x*hn-2*i*h1\n",
      "            h1=hn\n",
      "            hn=Herm\n",
      "            \n",
      "    return Herm"
     ],
     "language": "python",
     "metadata": {},
     "outputs": [],
     "prompt_number": 166
    },
    {
     "cell_type": "code",
     "collapsed": false,
     "input": [
      "def rho(n,x):\n",
      "    return e**(-x**2 /2)*H(n,x) / sqrt((2**n)*(math.factorial(n))*sqrt(pi))"
     ],
     "language": "python",
     "metadata": {},
     "outputs": [],
     "prompt_number": 169
    },
    {
     "cell_type": "code",
     "collapsed": false,
     "input": [
      "x=arange(-4.,4.,.01)\n",
      "plot (x, rho(1,x))\n",
      "plot (x, rho(2,x))\n",
      "plot (x, rho(3,x))"
     ],
     "language": "python",
     "metadata": {},
     "outputs": [
      {
       "output_type": "pyout",
       "prompt_number": 174,
       "text": [
        "[<matplotlib.lines.Line2D at 0x46d0dd0>]"
       ]
      },
      {
       "output_type": "display_data",
       "png": "[encoded data removed]"
      }
     ],
     "prompt_number": 174
    },
    {
     "cell_type": "markdown",
     "metadata": {},
     "source": [
      "Make a separate plot of the wave function for n = 30 from x = -10 to x = 10. If your\n",
      "code takes too long to run, then you are doing the calculation wrong - it should only take\n",
      "a second or so to run."
     ]
    },
    {
     "cell_type": "code",
     "collapsed": false,
     "input": [
      "x=arange(-10.,10.,.01)\n",
      "plot (x, rho(30,x))"
     ],
     "language": "python",
     "metadata": {},
     "outputs": [
      {
       "output_type": "pyout",
       "prompt_number": 175,
       "text": [
        "[<matplotlib.lines.Line2D at 0x7fe7b854da10>]"
       ]
      },
      {
       "output_type": "display_data",
       "png": "[encoded data removed]"
      }
     ],
     "prompt_number": 175
    },
    {
     "cell_type": "markdown",
     "metadata": {},
     "source": [
      "Write code that evaluates this integral and calculates the uncertainty (i.e. the RMS position\n",
      "of the particle) for a given value of n. Calculate the uncertainty for n = 5"
     ]
    },
    {
     "cell_type": "code",
     "collapsed": false,
     "input": [
      "def uncertainty(n):\n",
      "    f=lambda x: x**2*(rho(n,x))**2\n",
      "    import scipy.integrate as integrate\n",
      "    return integrate.quad(f, -inf, inf)"
     ],
     "language": "python",
     "metadata": {},
     "outputs": [],
     "prompt_number": 248
    },
    {
     "cell_type": "code",
     "collapsed": false,
     "input": [
      "print uncertainty(5)"
     ],
     "language": "python",
     "metadata": {},
     "outputs": [
      {
       "output_type": "stream",
       "stream": "stdout",
       "text": [
        "(5.5000000000000036, 4.9207677062811615e-08)\n"
       ]
      }
     ],
     "prompt_number": 249
    },
    {
     "cell_type": "markdown",
     "metadata": {},
     "source": [
      "?"
     ]
    },
    {
     "cell_type": "markdown",
     "metadata": {},
     "source": [
      "Use the hit or miss Monte Carlo method to estimate the integral of $f(x) = 4\\sqrt{1-x^2}$ on the interval 0 < x < 1 as a function of N, the number of samples."
     ]
    },
    {
     "cell_type": "code",
     "collapsed": false,
     "input": [
      "f=lambda x: 4*((1-x**2)**.5)\n",
      "x=arange(0.,1.,0.001)\n",
      "\n",
      "xmin=0.\n",
      "xmax=1.\n",
      "\n",
      "subx=x[logical_and((x>xmin),(x<xmax))]\n",
      "ymax=4\n",
      "ymin=0\n",
      "\n",
      "N=10000\n",
      "\n",
      "samples_x=xmin+(xmax-xmin)*random_sample(N);\n",
      "samples_y=ymin+(ymax-ymin)*random_sample(N);\n",
      "\n",
      "newmask=(samples_y < f(samples_x))\n",
      "\n",
      "I=(xmax-xmin)*(ymax-ymin)*sum(newmask)/newmask.size\n",
      "\n",
      "print I\n"
     ],
     "language": "python",
     "metadata": {},
     "outputs": [
      {
       "output_type": "stream",
       "stream": "stdout",
       "text": [
        "3.13\n"
       ]
      }
     ],
     "prompt_number": 34
    },
    {
     "cell_type": "markdown",
     "metadata": {},
     "source": [
      "Calculate the di\u000b",
      "\n",
      "erence between your result from part (a) and the exact result for\n",
      "\n",
      "the N values from part (a)"
     ]
    },
    {
     "cell_type": "code",
     "collapsed": false,
     "input": [
      "print abs(pi-I)"
     ],
     "language": "python",
     "metadata": {},
     "outputs": [
      {
       "output_type": "stream",
       "stream": "stdout",
       "text": [
        "0.0115926535898\n"
       ]
      }
     ],
     "prompt_number": 35
    },
    {
     "cell_type": "markdown",
     "metadata": {},
     "source": [
      "Make a log-log plot of the error you calculated in part(b) as a function of N. What is\n",
      "the approximate functional dependence of the error on N for large N, for example N > $10^4$?"
     ]
    },
    {
     "cell_type": "code",
     "collapsed": false,
     "input": [
      "A=([0])\n",
      "for N in range (1000,100000,1000):\n",
      "\n",
      "    samples_x=xmin+(xmax-xmin)*random_sample(N);\n",
      "    samples_y=ymin+(ymax-ymin)*random_sample(N);\n",
      "\n",
      "    newmask=(samples_y < f(samples_x))\n",
      "\n",
      "    I=(xmax-xmin)*(ymax-ymin)*sum(newmask)/newmask.size\n",
      "\n",
      "    A.append(abs(I-pi))"
     ],
     "language": "python",
     "metadata": {},
     "outputs": [],
     "prompt_number": 36
    },
    {
     "cell_type": "code",
     "collapsed": false,
     "input": [
      "N=arange(1000,100001,1000)\n",
      "loglog(N,A)\n",
      "xlim(2000,100001)\n",
      "xlabel('N')\n",
      "ylabel('Error')\n",
      "\n",
      "legend()\n",
      "show()"
     ],
     "language": "python",
     "metadata": {},
     "outputs": [
      {
       "ename": "TypeError",
       "evalue": "'str' object is not callable",
       "output_type": "pyerr",
       "traceback": [
        "\u001b[1;31m---------------------------------------------------------------------------\u001b[0m\n\u001b[1;31mTypeError\u001b[0m                                 Traceback (most recent call last)",
        "\u001b[1;32m<ipython-input-42-8764d593025a>\u001b[0m in \u001b[0;36m<module>\u001b[1;34m()\u001b[0m\n\u001b[0;32m      2\u001b[0m \u001b[0mloglog\u001b[0m\u001b[1;33m(\u001b[0m\u001b[0mN\u001b[0m\u001b[1;33m,\u001b[0m\u001b[0mA\u001b[0m\u001b[1;33m)\u001b[0m\u001b[1;33m\u001b[0m\u001b[0m\n\u001b[0;32m      3\u001b[0m \u001b[0mxlim\u001b[0m\u001b[1;33m(\u001b[0m\u001b[1;36m2000\u001b[0m\u001b[1;33m,\u001b[0m\u001b[1;36m100001\u001b[0m\u001b[1;33m)\u001b[0m\u001b[1;33m\u001b[0m\u001b[0m\n\u001b[1;32m----> 4\u001b[1;33m \u001b[0mxlabel\u001b[0m\u001b[1;33m(\u001b[0m\u001b[1;34m'N'\u001b[0m\u001b[1;33m)\u001b[0m\u001b[1;33m\u001b[0m\u001b[0m\n\u001b[0m\u001b[0;32m      5\u001b[0m \u001b[0mylabel\u001b[0m\u001b[1;33m(\u001b[0m\u001b[1;34m'Error'\u001b[0m\u001b[1;33m)\u001b[0m\u001b[1;33m\u001b[0m\u001b[0m\n\u001b[0;32m      6\u001b[0m \u001b[1;33m\u001b[0m\u001b[0m\n",
        "\u001b[1;31mTypeError\u001b[0m: 'str' object is not callable"
       ]
      },
      {
       "output_type": "display_data",
       "png": "[encoded data removed]"
      }
     ],
     "prompt_number": 42
    },
    {
     "cell_type": "raw",
     "metadata": {},
     "source": [
      "Labeling issues, no idea."
     ]
    },
    {
     "cell_type": "markdown",
     "metadata": {},
     "source": [
      "Estimate the same integral using the sample mean Monte Carlo method and compute\n",
      "the error as a function of the number of samples N for N => 10^4\n",
      ". How many samples are\n",
      "needed to determine the result to two decimal places? What is the approximate functional\n",
      "dependence of the error on N for large N?"
     ]
    },
    {
     "cell_type": "code",
     "collapsed": false,
     "input": [
      "f=lambda x: 4*((1-x**2)**.5)\n",
      "x=arange(0.,1.,0.001)\n",
      "\n",
      "xmin=0.\n",
      "xmax=1.\n",
      "\n",
      "subx=x[logical_and((x>xmin),(x<xmax))]\n",
      "ymax=4\n",
      "ymin=0\n",
      "\n",
      "N=1000000\n",
      "\n",
      "samples_x=xmin+(xmax-xmin)*random_sample(N);\n",
      "samples_y=ymin+(ymax-ymin)*random_sample(N);\n",
      "\n",
      "newmask=(samples_y < f(samples_x))\n",
      "\n",
      "I=(xmax-xmin)*(ymax-ymin)*sum(newmask)/newmask.size\n",
      "\n",
      "print I\n"
     ],
     "language": "python",
     "metadata": {},
     "outputs": [
      {
       "output_type": "stream",
       "stream": "stdout",
       "text": [
        "3.144912\n"
       ]
      }
     ],
     "prompt_number": 318
    },
    {
     "cell_type": "raw",
     "metadata": {},
     "source": [
      "1000000 samples needed. "
     ]
    },
    {
     "cell_type": "markdown",
     "metadata": {},
     "source": [
      "Use numerical integration to \f",
      "find M, rcm, and Icm."
     ]
    },
    {
     "cell_type": "code",
     "collapsed": false,
     "input": [],
     "language": "python",
     "metadata": {},
     "outputs": []
    }
   ],
   "metadata": {}
  }
 ]
}