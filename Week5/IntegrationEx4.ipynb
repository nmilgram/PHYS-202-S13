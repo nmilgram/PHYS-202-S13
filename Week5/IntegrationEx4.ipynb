{
 "metadata": {
  "name": "IntegrationEx4"
 },
 "nbformat": 3,
 "nbformat_minor": 0,
 "worksheets": [
  {
   "cells": [
    {
     "cell_type": "markdown",
     "metadata": {},
     "source": [
      "Write code to calculate $E(x)$  for values of x from 0 to 3 in steps of 0.1. Choose for\n",
      "yourself what method you will use for performing the integral and a suitable number of\n",
      "slices."
     ]
    },
    {
     "cell_type": "code",
     "collapsed": false,
     "input": [
      "f= lambda t: e**(-t**2)"
     ],
     "language": "python",
     "metadata": {},
     "outputs": [],
     "prompt_number": 1
    },
    {
     "cell_type": "code",
     "collapsed": false,
     "input": [
      "def integral(x):\n",
      "    N=1000\n",
      "    a=0.0\n",
      "    b=x\n",
      "    h=(b-a)/N\n",
      "    s=0.5*f(a) + 0.5*f(b)\n",
      "    for k in range (1,N):\n",
      "        s+=f(a+k*h)\n",
      "    return h*s\n",
      "print integral(3)"
     ],
     "language": "python",
     "metadata": {},
     "outputs": [
      {
       "output_type": "stream",
       "stream": "stdout",
       "text": [
        "0.886207347704\n"
       ]
      }
     ],
     "prompt_number": 7
    },
    {
     "cell_type": "markdown",
     "metadata": {},
     "source": [
      "Make a graph of $E(x)$ as a function of x"
     ]
    },
    {
     "cell_type": "code",
     "collapsed": false,
     "input": [
      "x=arange(0.,11.,0.1)\n",
      "plot(x, integral(x))"
     ],
     "language": "python",
     "metadata": {},
     "outputs": [
      {
       "output_type": "pyout",
       "prompt_number": 12,
       "text": [
        "[<matplotlib.lines.Line2D at 0x31aee50>]"
       ]
      },
      {
       "output_type": "display_data",
       "png": "[encoded data removed]"
      }
     ],
     "prompt_number": 12
    },
    {
     "cell_type": "markdown",
     "metadata": {},
     "source": [
      "What is the probability of \f",
      "nding the particle between L/3 and L/2 for the ground\n",
      "state and for the \f",
      "first excited state? Perform the integral using both trapz and quad with\n",
      "an accuracy of 6 sig \f",
      "gs. How many bins did you need to use for trapz?"
     ]
    },
    {
     "cell_type": "code",
     "collapsed": false,
     "input": [
      "L=1\n",
      "f= lambda x: (2/L)*(sin(pi*x/L)**2)\n",
      "g= lambda x: (2/L)*(sin(2*pi*x/L)**2)"
     ],
     "language": "python",
     "metadata": {},
     "outputs": [],
     "prompt_number": 33
    },
    {
     "cell_type": "markdown",
     "metadata": {},
     "source": [
      "Trapezoidal n=1 state:"
     ]
    },
    {
     "cell_type": "code",
     "collapsed": false,
     "input": [
      "N=1000\n",
      "a=L/3.\n",
      "b=L/2.\n",
      "h=(b-a)/N\n",
      "s=0.5*f(a) + 0.5*f(b)\n",
      "for k in range (1,N):\n",
      "    s+=f(a+k*h)\n",
      "print h*s"
     ],
     "language": "python",
     "metadata": {},
     "outputs": [
      {
       "output_type": "stream",
       "stream": "stdout",
       "text": [
        "0.304498877926\n"
       ]
      }
     ],
     "prompt_number": 34
    },
    {
     "cell_type": "markdown",
     "metadata": {},
     "source": [
      "Trapezoidal n=1 state:"
     ]
    },
    {
     "cell_type": "code",
     "collapsed": false,
     "input": [
      "N=1000\n",
      "a=L/3.\n",
      "b=L/2.\n",
      "h=(b-a)/N\n",
      "s=0.5*f(a) + 0.5*f(b)\n",
      "for k in range (1,N):\n",
      "    s+=g(a+k*h)\n",
      "print h*s"
     ],
     "language": "python",
     "metadata": {},
     "outputs": [
      {
       "output_type": "stream",
       "stream": "stdout",
       "text": [
        "0.0979172465973\n"
       ]
      }
     ],
     "prompt_number": 35
    },
    {
     "cell_type": "markdown",
     "metadata": {},
     "source": [
      "Quad n=1 state:"
     ]
    },
    {
     "cell_type": "code",
     "collapsed": false,
     "input": [
      "import scipy.integrate as integrate\n",
      "result=integrate.quad(f, L/3., L/2.)\n",
      "print result"
     ],
     "language": "python",
     "metadata": {},
     "outputs": [
      {
       "output_type": "stream",
       "stream": "stdout",
       "text": [
        "(0.3044988905221147, 3.380616792304666e-15)\n"
       ]
      }
     ],
     "prompt_number": 36
    },
    {
     "cell_type": "markdown",
     "metadata": {},
     "source": [
      "Quad n=2 state:"
     ]
    },
    {
     "cell_type": "code",
     "collapsed": false,
     "input": [
      "import scipy.integrate as integrate\n",
      "result=integrate.quad(g, L/3., L/2.)\n",
      "print result"
     ],
     "language": "python",
     "metadata": {},
     "outputs": [
      {
       "output_type": "stream",
       "stream": "stdout",
       "text": [
        "(0.09775055473894274, 1.0852491654105595e-15)\n"
       ]
      }
     ],
     "prompt_number": 37
    },
    {
     "cell_type": "markdown",
     "metadata": {},
     "source": [
      "The probability for finding the particle betwen L/3 and L/2 is 30.4% for the ground state and 9.8% for the first excited state."
     ]
    },
    {
     "cell_type": "markdown",
     "metadata": {},
     "source": [
      "to see if these make sense make a plot of $abs(\\psi(x))^2$ vs. x for L=1."
     ]
    },
    {
     "cell_type": "code",
     "collapsed": false,
     "input": [
      "x=arange(0.,1.,.01)\n",
      "plot(x,(2/L)*(sin(pi*x/L)**2))\n",
      "plot(x,(2/L)*(sin(2*pi*x/L)**2))"
     ],
     "language": "python",
     "metadata": {},
     "outputs": [
      {
       "output_type": "pyout",
       "prompt_number": 38,
       "text": [
        "[<matplotlib.lines.Line2D at 0x3beb250>]"
       ]
      },
      {
       "output_type": "display_data",
       "png": "[encoded data removed]"
      }
     ],
     "prompt_number": 38
    },
    {
     "cell_type": "code",
     "collapsed": false,
     "input": [],
     "language": "python",
     "metadata": {},
     "outputs": []
    }
   ],
   "metadata": {}
  }
 ]
}