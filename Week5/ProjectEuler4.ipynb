{
 "metadata": {
  "name": "ProjectEuler4"
 },
 "nbformat": 3,
 "nbformat_minor": 0,
 "worksheets": [
  {
   "cells": [
    {
     "cell_type": "code",
     "collapsed": false,
     "input": [
      "A=[(0)] #initializes an array\n",
      "for i in xrange(100, 1000):\n",
      "    for j in xrange(i, 1000):\n",
      "        p = i * j    #generates all multiples of 3-digit numbers\n",
      "        if str(p)==str(p)[::-1]:   #restricts output to pallendrome numbers only\n",
      "            A.append(p)  #generates an array of all outputs\n",
      "print max(A)   #gives largest value in our array.\n",
      "                    \n",
      "        \n",
      "        \n"
     ],
     "language": "python",
     "metadata": {},
     "outputs": [
      {
       "output_type": "stream",
       "stream": "stdout",
       "text": [
        "906609\n"
       ]
      }
     ],
     "prompt_number": 8
    },
    {
     "cell_type": "markdown",
     "metadata": {},
     "source": [
      "This value is indeed the known largest palindrome made from the product of two 3-digit numbers."
     ]
    },
    {
     "cell_type": "code",
     "collapsed": false,
     "input": [],
     "language": "python",
     "metadata": {},
     "outputs": []
    }
   ],
   "metadata": {}
  }
 ]
}