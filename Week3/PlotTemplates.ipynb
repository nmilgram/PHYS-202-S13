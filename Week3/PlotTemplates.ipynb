{
 "metadata": {
  "name": "PlotTemplates"
 },
 "nbformat": 3,
 "nbformat_minor": 0,
 "worksheets": [
  {
   "cells": [
    {
     "cell_type": "markdown",
     "metadata": {},
     "source": [
      "Publication ready plot template\n",
      "===============================\n",
      "Simple graphing template for matplotlib functions and data plots.\n",
      "-----------------------------------------------------------------"
     ]
    },
    {
     "cell_type": "heading",
     "level": 3,
     "metadata": {},
     "source": [
      "Line Plots"
     ]
    },
    {
     "cell_type": "code",
     "collapsed": false,
     "input": [
      "y=arange(-5.,5.,0.01)\n",
      "#array y created"
     ],
     "language": "python",
     "metadata": {},
     "outputs": [],
     "prompt_number": 1
    },
    {
     "cell_type": "code",
     "collapsed": false,
     "input": [
      "import math\n",
      "E=cosh(y)\n",
      "P=abs(sinh(y))\n",
      "plot(P,y)\n",
      "plot(E,y)\n",
      "ax = gca()\n",
      "ax.spines['left'].set_position('center')\n",
      "ax.spines['right'].set_color('none')\n",
      "ax.spines['bottom'].set_position('center')\n",
      "ax.spines['top'].set_color('none')\n",
      "ax.xaxis.grid\n",
      "ax.yaxis.grid\n",
      "plt.grid()\n",
      "xlim([-5,5])\n",
      "ylim([-5,5])"
     ],
     "language": "python",
     "metadata": {},
     "outputs": [
      {
       "output_type": "pyout",
       "prompt_number": 31,
       "text": [
        "(-5, 5)"
       ]
      },
      {
       "output_type": "display_data",
       "png": "[encoded data removed]"
      }
     ],
     "prompt_number": 31
    },
    {
     "cell_type": "code",
     "collapsed": false,
     "input": [],
     "language": "python",
     "metadata": {},
     "outputs": []
    }
   ],
   "metadata": {}
  }
 ]
}