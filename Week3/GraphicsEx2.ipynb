{
 "metadata": {
  "name": "GraphicsEx2"
 },
 "nbformat": 3,
 "nbformat_minor": 0,
 "worksheets": [
  {
   "cells": [
    {
     "cell_type": "markdown",
     "metadata": {},
     "source": [
      "reproduce the following equations in markdown cells in\n",
      "your notebook. Be careful with parentheses and brackets - if they span over larger than\n",
      "one line, yours should too."
     ]
    },
    {
     "cell_type": "markdown",
     "metadata": {},
     "source": [
      "$\\psi k(x)=A( \\frac{ik-atanh(ax)\u0000}{ik+a})e^{+ikx}$\n"
     ]
    },
    {
     "cell_type": "markdown",
     "metadata": {},
     "source": [
      "$v_1=m_2 \\sqrt{ \\frac{2G}{M}(\\frac{1}{r} - \\frac{1}{r_0})}$"
     ]
    },
    {
     "cell_type": "markdown",
     "metadata": {},
     "source": [
      "$f(\\theta)=\\frac{\\hbar}{p}\\sum_i^{\\infty}(2l+1)e^{i{\\delta}_l}\\sin\\delta_l P_l(\\cos\\theta)$"
     ]
    },
    {
     "cell_type": "markdown",
     "metadata": {},
     "source": [
      "$\\frac{d\\sigma}{d\\omega}=\\frac{k\\pi^2(\\pi-\\theta)}{mu_0^2 \\theta^2(2\\pi -\\theta)^2 \\sin\\theta}$"
     ]
    },
    {
     "cell_type": "markdown",
     "metadata": {},
     "source": [
      "$\\langle f \\rangle=\\frac{1}{\\tau}\\int_0^\\tau f(t)dt$"
     ]
    },
    {
     "cell_type": "markdown",
     "metadata": {},
     "source": [
      "$\\Omega_s = \\omega \\frac{sin\\alpha}{\\sin\\theta} = \\frac{L}{\\lambda_1}= \\omega \\frac{\\sqrt{\\lambda_3^2 + (\\lambda_1^2 - \\lambda_3^2) \\sin\\alpha}}{\\lambda_1}$"
     ]
    },
    {
     "cell_type": "markdown",
     "metadata": {},
     "source": [
      "In PHYS 212, many of you encountered the wave function shown in question 1(a)\n",
      "(Equation (1)). You plotted this along with the potential energy from the positive energy\n",
      "solutions for Schroedinger's equation. Reproduce the following graph of these two functions for the four values of k shown. Let\n",
      "A and a = 1."
     ]
    },
    {
     "cell_type": "code",
     "collapsed": false,
     "input": [
      "x=arange(-3.14,3.14,0.01)\n",
      "c=-(1/(cosh(x))**2)\n",
      "kn=((-tanh(x)))**2\n",
      "plot(kn)\n",
      "plot(c)\n"
     ],
     "language": "python",
     "metadata": {},
     "outputs": [
      {
       "output_type": "pyout",
       "prompt_number": 29,
       "text": [
        "[<matplotlib.lines.Line2D at 0x108f39a90>]"
       ]
      },
      {
       "output_type": "display_data",
       "png": "[encoded data removed]"
      }
     ],
     "prompt_number": 29
    }
   ],
   "metadata": {}
  }
 ]
}