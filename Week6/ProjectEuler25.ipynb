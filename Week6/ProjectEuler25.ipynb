{
 "metadata": {
  "name": "ProjectEuler25"
 },
 "nbformat": 3,
 "nbformat_minor": 0,
 "worksheets": [
  {
   "cells": [
    {
     "cell_type": "markdown",
     "metadata": {},
     "source": [
      "Project Euler 25\n",
      "==============="
     ]
    },
    {
     "cell_type": "markdown",
     "metadata": {},
     "source": [
      "The Fibonacci sequence is defined by the recurrence relation:\n",
      "\n",
      "Fn = Fn1 + Fn2, where F1 = 1 and F2 = 1.\n",
      "Hence the first 12 terms will be:\n",
      "\n",
      "F1 = 1,\n",
      "F2 = 1,\n",
      "F3 = 2,\n",
      "F4 = 3,\n",
      "F5 = 5,\n",
      "F6 = 8,\n",
      "F7 = 13,\n",
      "F8 = 21,\n",
      "F9 = 34,\n",
      "F10 = 55,\n",
      "F11 = 89,\n",
      "F12 = 144\n",
      "\n",
      "The 12th term, F12, is the first term to contain three digits.\n",
      "\n",
      "What is the first term in the Fibonacci sequence to contain 1000 digits?"
     ]
    },
    {
     "cell_type": "code",
     "collapsed": false,
     "input": [
      "from math import *\n",
      "phi = (1+sqrt(5))/2   #The Golden Ratio\n",
      "\n",
      "def ninfib(d):  #d is the number of digits in the fibinacci number in question\n",
      "    return (d-1 + log10(5) /2) / log10(phi)  #derived from Binet's formula, returns n for which the nth fibonacci number is the first to have d digits\n",
      "\n",
      "print round(ninfib(1000))  #returns float, must be rounded up"
     ],
     "language": "python",
     "metadata": {},
     "outputs": [
      {
       "output_type": "stream",
       "stream": "stdout",
       "text": [
        "4782.0\n"
       ]
      }
     ],
     "prompt_number": 37
    },
    {
     "cell_type": "raw",
     "metadata": {},
     "source": [
      "^ the 4782nd fibbonacci number is the first to have 1000 digits."
     ]
    },
    {
     "cell_type": "code",
     "collapsed": false,
     "input": [
      "def Fib(n):   #Returns fibonacci numbers\n",
      "    if n==0:\n",
      "        F=1\n",
      "    elif n==1:\n",
      "        F=1\n",
      "    elif n==2:\n",
      "        F=1\n",
      "    else:\n",
      "        f2=1\n",
      "        f1=1\n",
      "        fn=f1 + f2\n",
      "        for i in range(3,n):\n",
      "            F=fn+f1\n",
      "            f1=fn\n",
      "            fn=F\n",
      "            \n",
      "    return F"
     ],
     "language": "python",
     "metadata": {},
     "outputs": [],
     "prompt_number": 34
    },
    {
     "cell_type": "code",
     "collapsed": false,
     "input": [
      "print len(str(Fib(4781)))"
     ],
     "language": "python",
     "metadata": {},
     "outputs": [
      {
       "output_type": "stream",
       "stream": "stdout",
       "text": [
        "999\n"
       ]
      }
     ],
     "prompt_number": 36
    },
    {
     "cell_type": "code",
     "collapsed": false,
     "input": [
      "print len(str(Fib(4782)))"
     ],
     "language": "python",
     "metadata": {},
     "outputs": [
      {
       "output_type": "stream",
       "stream": "stdout",
       "text": [
        "1000\n"
       ]
      }
     ],
     "prompt_number": 35
    },
    {
     "cell_type": "raw",
     "metadata": {},
     "source": [
      "^ confirms that the 4782nd fibonacci number is the first to have 1000 digits."
     ]
    }
   ],
   "metadata": {}
  }
 ]
}