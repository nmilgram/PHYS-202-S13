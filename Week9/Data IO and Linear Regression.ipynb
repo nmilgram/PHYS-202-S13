{
 "metadata": {
  "name": "Data IO and Linear Regression"
 },
 "nbformat": 3,
 "nbformat_minor": 0,
 "worksheets": [
  {
   "cells": [
    {
     "cell_type": "code",
     "collapsed": false,
     "input": [
      "DataIn=loadtxt('input.dat')\n",
      "print DataIn.shape\n",
      "print DataIn"
     ],
     "language": "python",
     "metadata": {},
     "outputs": [
      {
       "output_type": "stream",
       "stream": "stdout",
       "text": [
        "(5, 3)\n",
        "[[ 0.   1.1  0.1]\n",
        " [ 2.   1.9  0.2]\n",
        " [ 4.   3.2  0.1]\n",
        " [ 6.   4.   0.3]\n",
        " [ 8.   5.9  0.3]]\n"
       ]
      }
     ],
     "prompt_number": 3
    },
    {
     "cell_type": "code",
     "collapsed": false,
     "input": [
      "print DataIn[:,2]"
     ],
     "language": "python",
     "metadata": {},
     "outputs": [
      {
       "output_type": "stream",
       "stream": "stdout",
       "text": [
        "[ 0.1  0.2  0.1  0.3  0.3]\n"
       ]
      }
     ],
     "prompt_number": 4
    },
    {
     "cell_type": "code",
     "collapsed": false,
     "input": [
      "x,y,yerr=loadtxt('input.dat',unpack=True)\n",
      "print x\n",
      "print y\n",
      "print yerr"
     ],
     "language": "python",
     "metadata": {},
     "outputs": [
      {
       "output_type": "stream",
       "stream": "stdout",
       "text": [
        "[ 0.  2.  4.  6.  8.]\n",
        "[ 1.1  1.9  3.2  4.   5.9]\n",
        "[ 0.1  0.2  0.1  0.3  0.3]\n"
       ]
      }
     ],
     "prompt_number": 7
    },
    {
     "cell_type": "code",
     "collapsed": false,
     "input": [
      "x,y=loadtxt('input.dat',unpack=True,usecols[0,1])\n",
      "print x\n",
      "print y"
     ],
     "language": "python",
     "metadata": {},
     "outputs": [
      {
       "ename": "SyntaxError",
       "evalue": "non-keyword arg after keyword arg (<ipython-input-8-546978613d44>, line 1)",
       "output_type": "pyerr",
       "traceback": [
        "\u001b[0;36m  File \u001b[0;32m\"<ipython-input-8-546978613d44>\"\u001b[0;36m, line \u001b[0;32m1\u001b[0m\n\u001b[0;31mSyntaxError\u001b[0m\u001b[0;31m:\u001b[0m non-keyword arg after keyword arg\n"
       ]
      }
     ],
     "prompt_number": 8
    },
    {
     "cell_type": "code",
     "collapsed": false,
     "input": [
      "x,y=loadtxt('input.csv',unpack=True,delimiter=',',usecols=[0,1])\n",
      "print x\n",
      "print y"
     ],
     "language": "python",
     "metadata": {},
     "outputs": [
      {
       "output_type": "stream",
       "stream": "stdout",
       "text": [
        "[ 0.  2.  4.  6.  8.]\n",
        "[ 1.1  1.9  3.2  4.   5.9]\n"
       ]
      }
     ],
     "prompt_number": 11
    },
    {
     "cell_type": "code",
     "collapsed": false,
     "input": [
      "t=array([0,1,2,3,4,5,6,7,8,9])\n",
      "v=array([.137,.456,.591,.793,.859,.926,1.139,1.327,1.512,1.879])"
     ],
     "language": "python",
     "metadata": {},
     "outputs": [],
     "prompt_number": 14
    },
    {
     "cell_type": "code",
     "collapsed": false,
     "input": [
      "p=[]"
     ],
     "language": "python",
     "metadata": {},
     "outputs": [],
     "prompt_number": 15
    },
    {
     "cell_type": "code",
     "collapsed": false,
     "input": [
      "for i in v:\n",
      "    p.append(.15+i/10.)\n",
      "print p"
     ],
     "language": "python",
     "metadata": {},
     "outputs": [
      {
       "output_type": "stream",
       "stream": "stdout",
       "text": [
        "[0.16369999999999998, 0.1956, 0.20910000000000001, 0.2293, 0.2359, 0.24259999999999998, 0.26390000000000002, 0.28269999999999995, 0.30120000000000002, 0.33789999999999998]\n"
       ]
      }
     ],
     "prompt_number": 16
    },
    {
     "cell_type": "code",
     "collapsed": false,
     "input": [
      "savetxt('output.dat',(t,p))"
     ],
     "language": "python",
     "metadata": {},
     "outputs": [],
     "prompt_number": 18
    },
    {
     "cell_type": "code",
     "collapsed": false,
     "input": [
      "DataOut=column_stack((t,p))\n",
      "savetxt('output.dat',DataOut)"
     ],
     "language": "python",
     "metadata": {},
     "outputs": [],
     "prompt_number": 19
    },
    {
     "cell_type": "code",
     "collapsed": false,
     "input": [
      "savetxt('output.dat',DataOut,fmt=('%3i','%4.3f'))"
     ],
     "language": "python",
     "metadata": {},
     "outputs": [],
     "prompt_number": 22
    },
    {
     "cell_type": "code",
     "collapsed": false,
     "input": [
      "f=open('output.dat','w')\n",
      "f.write('#comentmentment')\n",
      "savetxt(f,DataOut,fmt=('%3i','%4.3f'))\n",
      "f.close()"
     ],
     "language": "python",
     "metadata": {},
     "outputs": [],
     "prompt_number": 23
    },
    {
     "cell_type": "markdown",
     "metadata": {},
     "source": [
      "Excercise 1"
     ]
    },
    {
     "cell_type": "code",
     "collapsed": false,
     "input": [
      "t=array([1,2,3,4,5,6,7,8,9,10])\n",
      "p=array([7.75,7.73,6.89,6.45,5.96,5.55,5.10,4.49,3.93,3.58])\n",
      "u=array([0.02,0.03,0.03,0.04,0.05,0.06,0.08,0.11,0.14,0.17])"
     ],
     "language": "python",
     "metadata": {},
     "outputs": [],
     "prompt_number": 28
    },
    {
     "cell_type": "code",
     "collapsed": false,
     "input": [
      "DataOut=column_stack((t,p,u))\n",
      "savetxt('LinearData.dat',DataOut)"
     ],
     "language": "python",
     "metadata": {},
     "outputs": [],
     "prompt_number": 29
    },
    {
     "cell_type": "code",
     "collapsed": false,
     "input": [
      "savetxt('LinearData.csv',DataOut,delimiter=\",\")"
     ],
     "language": "python",
     "metadata": {},
     "outputs": [],
     "prompt_number": 30
    },
    {
     "cell_type": "markdown",
     "metadata": {},
     "source": [
      "Exercise 2"
     ]
    },
    {
     "cell_type": "code",
     "collapsed": false,
     "input": [
      "def LinearLeastSquaresFit(x,y):\n",
      "    n=float(len(x))\n",
      "    \n",
      "    xyp=(1/n)*sum(x*y)\n",
      "    xp=(1/n)*sum(x)\n",
      "    yp=(1/n)*sum(y)\n",
      "    x2p=(1/n)*sum(x*x)\n",
      "\n",
      "    \n",
      "    m=(xyp - (xp*yp))/(x2p - xp**2)\n",
      "    b=((x2p*yp) - (xp*xyp))/(x2p - xp**2)\n",
      "    \n",
      "    u2p=(1/n)*sum(y**2 - 2*m*x*y - 2*b*y + (m**2)*(x**2) + 2*m*x*b + b**2)\n",
      "    \n",
      "    \n",
      "    um=sqrt((1/(n-2))*(u2p/(x2p-xp**2)))\n",
      "    ub=sqrt((1/(n-2))*((u2p*x2p)/(x2p-xp**2)))\n",
      "    \n",
      "    return m,b,um,ub"
     ],
     "language": "python",
     "metadata": {},
     "outputs": [],
     "prompt_number": 6
    },
    {
     "cell_type": "code",
     "collapsed": false,
     "input": [
      "DataIn=loadtxt('LinearData.dat')"
     ],
     "language": "python",
     "metadata": {},
     "outputs": [],
     "prompt_number": 7
    },
    {
     "cell_type": "code",
     "collapsed": false,
     "input": [
      "X=array(DataIn[:,0])\n",
      "Y=array(DataIn[:,1])"
     ],
     "language": "python",
     "metadata": {},
     "outputs": [],
     "prompt_number": 8
    },
    {
     "cell_type": "code",
     "collapsed": false,
     "input": [
      "print X\n",
      "print Y"
     ],
     "language": "python",
     "metadata": {},
     "outputs": [
      {
       "output_type": "stream",
       "stream": "stdout",
       "text": [
        "[  1.   2.   3.   4.   5.   6.   7.   8.   9.  10.]\n",
        "[ 7.75  7.73  6.89  6.45  5.96  5.55  5.1   4.49  3.93  3.58]\n"
       ]
      }
     ],
     "prompt_number": 9
    },
    {
     "cell_type": "code",
     "collapsed": false,
     "input": [
      "LinearLeastSquaresFit(X,Y)"
     ],
     "language": "python",
     "metadata": {},
     "outputs": [
      {
       "output_type": "pyout",
       "prompt_number": 10,
       "text": [
        "(-0.48842424242424226,\n",
        " 8.429333333333334,\n",
        " 0.014768678543867046,\n",
        " 0.091637240455968758)"
       ]
      }
     ],
     "prompt_number": 10
    },
    {
     "cell_type": "code",
     "collapsed": false,
     "input": [
      "def WeightedLinearLeastSquaresFit(x,y,w):\n",
      "    n=float(len(x))\n",
      "    \n",
      "    xyp=(1/n)*sum(x*y)\n",
      "    xp=(1/n)*sum(x)\n",
      "    yp=(1/n)*sum(y)\n",
      "    x2p=(1/n)*sum(x*x)\n",
      "\n",
      "    \n",
      "    m=sqrt((sum(w)*sum(w*xyp) - sum(w*xp)*sum(w*yp))/(sum(w)*sum(w*x2p)-(sum(w*xp))**2))\n",
      "    b=sqrt((sum(w*x2p)*sum(w*yp) - sum(w*xp)*sum(w*xyp))/(sum(w)*sum(w*x2p)-(sum(w*xp))**2))\n",
      "    \n",
      "    um=sqrt(sum(w)/(sum(w)*sum(w*x2p) - (sum(w*xp))**2))\n",
      "    ub=sqrt(sum(w*x2p)/(sum(w)*sum(w*x2p) - (sum(w*xp))**2))\n",
      "    \n",
      "    return m,b,um,ub\n",
      "    "
     ],
     "language": "python",
     "metadata": {},
     "outputs": [],
     "prompt_number": 18
    },
    {
     "cell_type": "code",
     "collapsed": false,
     "input": [
      "w=array(DataIn[:,2])\n",
      "WeightedLinearLeastSquaresFit(X,Y,w)"
     ],
     "language": "python",
     "metadata": {},
     "outputs": [
      {
       "output_type": "pyout",
       "prompt_number": 19,
       "text": [
        "(nan, 2.9033314198233247, 0.4074849710853638, 2.5283777534076926)"
       ]
      }
     ],
     "prompt_number": 19
    },
    {
     "cell_type": "code",
     "collapsed": false,
     "input": [
      "def WeightedLinearLeastSquaresFit(x,y,w):\n",
      "    n=float(len(x))\n",
      "    \n",
      "    xyp=(1/n)*sum(x*y)\n",
      "    xp=(1/n)*sum(x)\n",
      "    yp=(1/n)*sum(y)\n",
      "    x2p=(1/n)*sum(x*x)\n",
      "\n",
      "    \n",
      "    m=sqrt((sum(w)*sum(w*x*y) - sum(w*x)*sum(w*y))/(sum(w)*sum(w*x**2)-(sum(w*x))**2))\n",
      "    b=sqrt((sum(w*x**2)*sum(w*y) - sum(w*x)*sum(w*x*y))/(sum(w)*sum(w*x**2)-(sum(w*x))**2))\n",
      "    \n",
      "    um=sqrt(sum(w)/(sum(w)*sum(w*x**2) - (sum(w*x))**2))\n",
      "    ub=sqrt(sum(w*x**2)/(sum(w)*sum(w*x**2) - (sum(w*x))**2))\n",
      "    \n",
      "    return m,b,um,ub"
     ],
     "language": "python",
     "metadata": {},
     "outputs": [],
     "prompt_number": 20
    },
    {
     "cell_type": "code",
     "collapsed": false,
     "input": [
      "WeightedLinearLeastSquaresFit(X,Y,w)"
     ],
     "language": "python",
     "metadata": {},
     "outputs": [
      {
       "output_type": "pyout",
       "prompt_number": 21,
       "text": [
        "(nan, 2.9085552781639765, 0.46138664815910974, 3.5722533249757151)"
       ]
      }
     ],
     "prompt_number": 21
    },
    {
     "cell_type": "code",
     "collapsed": false,
     "input": [],
     "language": "python",
     "metadata": {},
     "outputs": []
    }
   ],
   "metadata": {}
  }
 ]
}