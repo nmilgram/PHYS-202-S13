{
 "metadata": {
  "name": "NumpyEx1"
 },
 "nbformat": 3,
 "nbformat_minor": 0,
 "worksheets": [
  {
   "cells": [
    {
     "cell_type": "markdown",
     "metadata": {},
     "source": [
      "1. Create the following arrays with correct data types:\n",
      "[[1, 1, 1, 1],\n",
      "[1, 1, 1, 1],\n",
      "[1, 1, 1, 2],\n",
      "[1, 6, 1, 1]]\n",
      "\n",
      "[[0., 0., 0., 0., 0.],\n",
      "[2., 0., 0., 0., 0.],\n",
      "[0., 3., 0., 0., 0.],\n",
      "[0., 0., 4., 0., 0.],\n",
      "[0., 0., 0., 5., 0.],\n",
      "[0., 0., 0., 0., 6.]]"
     ]
    },
    {
     "cell_type": "code",
     "collapsed": false,
     "input": [
      "import numpy as np"
     ],
     "language": "python",
     "metadata": {},
     "outputs": [],
     "prompt_number": 1
    },
    {
     "cell_type": "code",
     "collapsed": false,
     "input": [
      "np.array([[1,1,1,1],\n",
      "         [1,1,1,1],\n",
      "         [1,1,1,2],\n",
      "         [1,6,1,1]])"
     ],
     "language": "python",
     "metadata": {},
     "outputs": [
      {
       "output_type": "pyout",
       "prompt_number": 3,
       "text": [
        "array([[1, 1, 1, 1],\n",
        "       [1, 1, 1, 1],\n",
        "       [1, 1, 1, 2],\n",
        "       [1, 6, 1, 1]])"
       ]
      }
     ],
     "prompt_number": 3
    },
    {
     "cell_type": "code",
     "collapsed": false,
     "input": [
      "np.array([[0., 0., 0., 0., 0.],\n",
      "[2., 0., 0., 0., 0.],\n",
      "[0., 3., 0., 0., 0.],\n",
      "[0., 0., 4., 0., 0.],\n",
      "[0., 0., 0., 5., 0.],\n",
      "[0., 0., 0., 0., 6.]])"
     ],
     "language": "python",
     "metadata": {},
     "outputs": [
      {
       "output_type": "pyout",
       "prompt_number": 4,
       "text": [
        "array([[ 0.,  0.,  0.,  0.,  0.],\n",
        "       [ 2.,  0.,  0.,  0.,  0.],\n",
        "       [ 0.,  3.,  0.,  0.,  0.],\n",
        "       [ 0.,  0.,  4.,  0.,  0.],\n",
        "       [ 0.,  0.,  0.,  5.,  0.],\n",
        "       [ 0.,  0.,  0.,  0.,  6.]])"
       ]
      }
     ],
     "prompt_number": 4
    },
    {
     "cell_type": "markdown",
     "metadata": {},
     "source": [
      "2. Read the documentation for np.tile and use this function to construct the following\n",
      "array:\n",
      "[[4, 3, 4, 3, 4, 3],\n",
      "[2, 1, 2, 1, 2, 1],\n",
      "[4, 3, 4, 3, 4, 3],\n",
      "[2, 1, 2, 1, 2, 1]]"
     ]
    },
    {
     "cell_type": "code",
     "collapsed": false,
     "input": [
      "np.array([[np.tile([4,3], 3)],\n",
      "          [np.tile([1,2], 3)],\n",
      "          [np.tile([4,3], 3)],\n",
      "          [np.tile([1,2], 3)]])"
     ],
     "language": "python",
     "metadata": {},
     "outputs": [
      {
       "output_type": "pyout",
       "prompt_number": 20,
       "text": [
        "array([[[4, 3, 4, 3, 4, 3]],\n",
        "\n",
        "       [[1, 2, 1, 2, 1, 2]],\n",
        "\n",
        "       [[4, 3, 4, 3, 4, 3]],\n",
        "\n",
        "       [[1, 2, 1, 2, 1, 2]]])"
       ]
      }
     ],
     "prompt_number": 20
    },
    {
     "cell_type": "markdown",
     "metadata": {},
     "source": [
      "3. Let's create a prime number sieve. We will use the sieve to see what numbers between\n",
      "0 and 100 are prime.\n",
      "(a) First, construct an array of booleans called is prime with shape (100,), \f",
      "lled with\n",
      "True in all the elements.\n",
      "is_prime = np.ones((100,), dtype=bool)"
     ]
    },
    {
     "cell_type": "code",
     "collapsed": false,
     "input": [
      "is_prime = np.ones((100,), dtype=bool)"
     ],
     "language": "python",
     "metadata": {},
     "outputs": [],
     "prompt_number": 21
    },
    {
     "cell_type": "markdown",
     "metadata": {},
     "source": [
      "(b) The index of each boolean element represents the number. \\Cross out\" 0 and 1, which\n",
      "are not primes. You can either set them to False or 0 (which python recognizes as equiv-\n",
      "alent to False for boolean types)."
     ]
    },
    {
     "cell_type": "code",
     "collapsed": false,
     "input": [],
     "language": "python",
     "metadata": {},
     "outputs": []
    },
    {
     "cell_type": "markdown",
     "metadata": {},
     "source": [
      "4. Let's do some manipulations on numpy arrays by starting with a stock image provided\n",
      "in scipy. It turns out that digital images are just arrays of numbers representing the\n",
      "relative intensity (for B/W images) or RGB values (for color images) of the pixels in the\n",
      "image. So we can use the array operations we have learned to do digital image processing!\n",
      "(a) Import the scipy stock image into an array (since it is coming from scipy, it is a numpy\n",
      "array):\n",
      "from scipy import misc\n",
      "lena = misc.lena()"
     ]
    },
    {
     "cell_type": "code",
     "collapsed": false,
     "input": [
      "from scipy import misc\n",
      "lena = misc.lena()"
     ],
     "language": "python",
     "metadata": {},
     "outputs": [],
     "prompt_number": 32
    },
    {
     "cell_type": "code",
     "collapsed": false,
     "input": [],
     "language": "python",
     "metadata": {},
     "outputs": []
    }
   ],
   "metadata": {}
  }
 ]
}