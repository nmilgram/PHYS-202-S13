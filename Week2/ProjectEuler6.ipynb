{
 "metadata": {
  "name": "ProjectEuler6"
 },
 "nbformat": 3,
 "nbformat_minor": 0,
 "worksheets": [
  {
   "cells": [
    {
     "cell_type": "heading",
     "level": 4,
     "metadata": {},
     "source": [
      "Sum square difference"
     ]
    },
    {
     "cell_type": "heading",
     "level": 6,
     "metadata": {},
     "source": [
      "Problem 6"
     ]
    },
    {
     "cell_type": "markdown",
     "metadata": {},
     "source": [
      "The sum of the squares of the first ten natural numbers is,\n",
      "\n",
      "1$^2$ + 2$^2$ + ... + 10$^2$ = 385\n",
      "The square of the sum of the first ten natural numbers is,\n",
      "\n",
      "(1 + 2 + ... + 10)$^2$ = 552 = 3025\n",
      "Hence the difference between the sum of the squares of the first ten natural numbers and the square of the sum is 3025 - 385 = 2640.\n",
      "\n",
      "Find the difference between the sum of the squares of the first one hundred natural numbers and the square of the sum."
     ]
    },
    {
     "cell_type": "code",
     "collapsed": false,
     "input": [
      "sum1 = square = 0\n",
      "for i in range(101):\n",
      "    sum1 = sum(sum1 + i**2)\n",
      "    square = sum(i)**2\n",
      "    result = square - sum1\n",
      "    print result"
     ],
     "language": "python",
     "metadata": {},
     "outputs": [
      {
       "output_type": "stream",
       "stream": "stdout",
       "text": [
        "0\n",
        "0\n",
        "-1\n",
        "-5\n",
        "-14\n",
        "-30\n",
        "-55\n",
        "-91\n",
        "-140\n",
        "-204\n",
        "-285\n",
        "-385\n",
        "-506\n",
        "-650\n",
        "-819\n",
        "-1015\n",
        "-1240\n",
        "-1496\n",
        "-1785\n",
        "-2109\n",
        "-2470\n",
        "-2870\n",
        "-3311\n",
        "-3795\n",
        "-4324\n",
        "-4900\n",
        "-5525\n",
        "-6201\n",
        "-6930\n",
        "-7714\n",
        "-8555\n",
        "-9455\n",
        "-10416\n",
        "-11440\n",
        "-12529\n",
        "-13685\n",
        "-14910\n",
        "-16206\n",
        "-17575\n",
        "-19019\n",
        "-20540\n",
        "-22140\n",
        "-23821\n",
        "-25585\n",
        "-27434\n",
        "-29370\n",
        "-31395\n",
        "-33511\n",
        "-35720\n",
        "-38024\n",
        "-40425\n",
        "-42925\n",
        "-45526\n",
        "-48230\n",
        "-51039\n",
        "-53955\n",
        "-56980\n",
        "-60116\n",
        "-63365\n",
        "-66729\n",
        "-70210\n",
        "-73810\n",
        "-77531\n",
        "-81375\n",
        "-85344\n",
        "-89440\n",
        "-93665\n",
        "-98021\n",
        "-102510\n",
        "-107134\n",
        "-111895\n",
        "-116795\n",
        "-121836\n",
        "-127020\n",
        "-132349\n",
        "-137825\n",
        "-143450\n",
        "-149226\n",
        "-155155\n",
        "-161239\n",
        "-167480\n",
        "-173880\n",
        "-180441\n",
        "-187165\n",
        "-194054\n",
        "-201110\n",
        "-208335\n",
        "-215731\n",
        "-223300\n",
        "-231044\n",
        "-238965\n",
        "-247065\n",
        "-255346\n",
        "-263810\n",
        "-272459\n",
        "-281295\n",
        "-290320\n",
        "-299536\n",
        "-308945\n",
        "-318549\n",
        "-328350\n"
       ]
      }
     ],
     "prompt_number": 23
    },
    {
     "cell_type": "code",
     "collapsed": false,
     "input": [],
     "language": "python",
     "metadata": {},
     "outputs": []
    }
   ],
   "metadata": {}
  }
 ]
}