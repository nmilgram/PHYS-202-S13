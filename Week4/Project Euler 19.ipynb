{
 "metadata": {
  "name": "Project Euler 19"
 },
 "nbformat": 3,
 "nbformat_minor": 0,
 "worksheets": [
  {
   "cells": [
    {
     "cell_type": "code",
     "collapsed": false,
     "input": [
      "def days_count(month, yr): #Returns days in any given month of and given year\n",
      "    if (month == 1) or (month == 3) or (month == 5) or (month == 7) or (month == 8) or (month == 10) or (month == 12):\n",
      "        d = 31\n",
      "        return d\n",
      "    elif (month == 4) or (month == 6) or (month == 9) or (month == 11):\n",
      "        d = 30\n",
      "        return d\n",
      "    elif (month == 2): #Leap years:\n",
      "        if yr % 4 == 0:\n",
      "            if yr % 100 == 0:\n",
      "                if yr % 400 == 0:\n",
      "                    d = 29\n",
      "                    return d\n",
      "                else:\n",
      "                    d = 28\n",
      "                    return d\n",
      "            d = 29\n",
      "            return d\n",
      "        else:\n",
      "            d = 28\n",
      "            return d\n",
      "         \n",
      "    else:\n",
      "        print \"Error\"\n",
      "         "
     ],
     "language": "python",
     "metadata": {},
     "outputs": [],
     "prompt_number": 19
    },
    {
     "cell_type": "code",
     "collapsed": false,
     "input": [
      "D = {1:'Sun', 2:'Mon', 3:'Tue', 4:'Wed', 5:'Thurs', 6:'Fri', 7:'Sat'}"
     ],
     "language": "python",
     "metadata": {},
     "outputs": [],
     "prompt_number": 20
    },
    {
     "cell_type": "code",
     "collapsed": false,
     "input": [
      "def func():\n",
      "    c = 1 #represents day of the week, initialized at 1 for Monday(must be initialized at number before the number corresponding to day)\n",
      "    u = 0 #represents the tally of Sunday the firsts\n",
      "    for yr in range(1900, 2001):\n",
      "         \n",
      "        for month in range(1, 13):\n",
      "    \n",
      "             \n",
      "            for i in range(1, (days_count(month, yr) + 1)): #loops each day of a given month, range given by days_count function above\n",
      "            \n",
      "                c = c + 1  #compounds day of the week     \n",
      "                if (i == 1) and D[c] == \"Sun\": #2 conditions: the first of the month and a Sunday\n",
      "                    \n",
      "                          \n",
      "                    u = u + 1 #adds to the tally\n",
      "                if c >= 7: \n",
      "                    c = 0 #re-initializes day of the week\n",
      "    print u - 2 #subtract the 2 Sunday the firsts from the year 1900\n",
      "               \n",
      " \n"
     ],
     "language": "python",
     "metadata": {},
     "outputs": [],
     "prompt_number": 21
    },
    {
     "cell_type": "code",
     "collapsed": false,
     "input": [
      "print func()"
     ],
     "language": "python",
     "metadata": {},
     "outputs": [
      {
       "output_type": "stream",
       "stream": "stdout",
       "text": [
        "171\n",
        "None\n"
       ]
      }
     ],
     "prompt_number": 22
    },
    {
     "cell_type": "markdown",
     "metadata": {},
     "source": [
      "This answer, 171, is the same as the answer confirmed in the PHYS 202 help forum"
     ]
    },
    {
     "cell_type": "code",
     "collapsed": false,
     "input": [],
     "language": "python",
     "metadata": {},
     "outputs": []
    }
   ],
   "metadata": {}
  }
 ]
}