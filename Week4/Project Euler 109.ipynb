{
 "metadata": {
  "name": "Project Euler 109"
 },
 "nbformat": 3,
 "nbformat_minor": 0,
 "worksheets": [
  {
   "cells": [
    {
     "cell_type": "code",
     "collapsed": false,
     "input": [
      "def days_count(month, yr):\n",
      "    if (month == 1) or (month == 3) or (month == 5) or (month == 7) or (month == 8) or (month == 10) or (month == 12):\n",
      "        d = 31\n",
      "        return d\n",
      "    elif (month == 4) or (month == 6) or (month == 9) or (month == 11):\n",
      "        d = 30\n",
      "        return d\n",
      "    elif (month == 2):\n",
      "        if yr % 4 == 0:\n",
      "            if yr % 100 == 0:\n",
      "                if yr % 400 == 0:\n",
      "                    d = 29\n",
      "                    return d\n",
      "                else:\n",
      "                    d = 28\n",
      "                    return d\n",
      "            d = 29\n",
      "            return d\n",
      "        else:\n",
      "            d = 28\n",
      "            return d\n",
      "         \n",
      "    else:\n",
      "        print \"Error\"\n",
      "         "
     ],
     "language": "python",
     "metadata": {},
     "outputs": [],
     "prompt_number": 44
    },
    {
     "cell_type": "code",
     "collapsed": false,
     "input": [
      "D = {1:'Sun', 2:'Mon', 3:'Tue', 4:'Wed', 5:'Thurs', 6:'Fri', 7:'Sat'}"
     ],
     "language": "python",
     "metadata": {},
     "outputs": [],
     "prompt_number": 45
    },
    {
     "cell_type": "code",
     "collapsed": false,
     "input": [
      "def func():\n",
      "    c = 1 \n",
      "    u = 0\n",
      "    for yr in range(1900, 2001):\n",
      "         \n",
      "        for month in range(1, 13):\n",
      "        \n",
      "            y = days_count(month, yr)\n",
      "             \n",
      "            for i in range(1, (y + 1)):\n",
      "            \n",
      "                c = c + 1       \n",
      "                if (i == 1) and D[c] == \"Sun\":\n",
      "                    \n",
      "                          \n",
      "                    u = u + 1\n",
      "                if c >= 7: \n",
      "                    c = 0\n",
      "    print u - 2\n",
      "               \n",
      " \n"
     ],
     "language": "python",
     "metadata": {},
     "outputs": [],
     "prompt_number": 46
    },
    {
     "cell_type": "code",
     "collapsed": false,
     "input": [
      "print func()"
     ],
     "language": "python",
     "metadata": {},
     "outputs": [
      {
       "output_type": "stream",
       "stream": "stdout",
       "text": [
        "171\n",
        "None\n"
       ]
      }
     ],
     "prompt_number": 47
    },
    {
     "cell_type": "code",
     "collapsed": false,
     "input": [],
     "language": "python",
     "metadata": {},
     "outputs": []
    }
   ],
   "metadata": {}
  }
 ]
}