{
 "metadata": {
  "name": "Project Euler 31"
 },
 "nbformat": 3,
 "nbformat_minor": 0,
 "worksheets": [
  {
   "cells": [
    {
     "cell_type": "markdown",
     "metadata": {},
     "source": [
      "Coin Sums\n",
      "========="
     ]
    },
    {
     "cell_type": "markdown",
     "metadata": {},
     "source": [
      "In England the currency is made up of pound, \u00a3, and pence, p, and there are eight coins in general circulation:\n",
      "\n",
      "1p, 2p, 5p, 10p, 20p, 50p, \u00a31 (100p) and \u00a32 (200p).\n",
      "It is possible to make \u00a32 in the following way:\n",
      "\n",
      "1X\u00a31 + 1X50p + 2X20p + 1X5p + 1X2p + 3X1p\n",
      "\n",
      "How many different ways can \u00a32 be made using any number of coins?"
     ]
    },
    {
     "cell_type": "code",
     "collapsed": false,
     "input": [
      "coins = [1,2,5,10,20,50,100,200]\n",
      "\n",
      "ways = [1]+[0]*200\n",
      " \n",
      "for i in coins:\n",
      "  for j in range(i, 201):\n",
      "    ways[j] += ways[j-i]\n",
      "print ways[200]"
     ],
     "language": "python",
     "metadata": {},
     "outputs": [
      {
       "output_type": "stream",
       "stream": "stdout",
       "text": [
        "73682\n"
       ]
      }
     ],
     "prompt_number": 27
    },
    {
     "cell_type": "markdown",
     "metadata": {},
     "source": [
      "This answer is confirmed by the code below, which is known to be correct and was written by Zach Denton."
     ]
    },
    {
     "cell_type": "code",
     "collapsed": false,
     "input": [
      "def ways_to_change(target, coins):\n",
      "    if target == 0 or len(coins) == 1:\n",
      "        return 1\n",
      "    else:\n",
      "        coins = sorted(coins)\n",
      "        largest = coins[-1]\n",
      "        uses = target / largest\n",
      "        total = 0\n",
      "        for i in range(uses + 1):\n",
      "            total += ways_to_change(target - largest * i, coins[:-1])\n",
      "        return total\n",
      "\n",
      "def main():\n",
      "    print ways_to_change(200, [1, 2, 5, 10, 20, 50, 100, 200])\n",
      "\n",
      "if __name__ == \"__main__\":\n",
      "    main()"
     ],
     "language": "python",
     "metadata": {},
     "outputs": [
      {
       "output_type": "stream",
       "stream": "stdout",
       "text": [
        "73682\n"
       ]
      }
     ],
     "prompt_number": 17
    }
   ],
   "metadata": {}
  }
 ]
}